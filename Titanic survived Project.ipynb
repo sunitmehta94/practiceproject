{
 "cells": [
  {
   "cell_type": "markdown",
   "metadata": {},
   "source": [
    "**import libraries**"
   ]
  },
  {
   "cell_type": "code",
   "execution_count": 6,
   "metadata": {
    "execution": {
     "iopub.execute_input": "2023-09-21T16:49:12.793527Z",
     "iopub.status.busy": "2023-09-21T16:49:12.793126Z",
     "iopub.status.idle": "2023-09-21T16:49:13.267249Z",
     "shell.execute_reply": "2023-09-21T16:49:13.265997Z",
     "shell.execute_reply.started": "2023-09-21T16:49:12.793496Z"
    }
   },
   "outputs": [],
   "source": [
    "import numpy as np\n",
    "import pandas as pd"
   ]
  },
  {
   "cell_type": "markdown",
   "metadata": {},
   "source": [
    "**Load the data**"
   ]
  },
  {
   "cell_type": "code",
   "execution_count": null,
   "metadata": {
    "execution": {
     "iopub.execute_input": "2023-09-21T16:49:13.270061Z",
     "iopub.status.busy": "2023-09-21T16:49:13.269364Z",
     "iopub.status.idle": "2023-09-21T16:49:13.332811Z",
     "shell.execute_reply": "2023-09-21T16:49:13.331458Z",
     "shell.execute_reply.started": "2023-09-21T16:49:13.270019Z"
    }
   },
   "outputs": [],
   "source": [
    "train_data = pd.read_csv(\"https://github.com/dsrscientist/dataset1/blob/master/titanic_train.csv\")\n",
    "test_data = pd.read_csv(\"https://github.com/dsrscientist/dataset1/blob/master/titanic_train.csv\")\n",
    "\n",
    "print(f\"train_data.shape :{train_data.shape}\")\n",
    "print(f\"test_data.shape :{test_data.shape}\")"
   ]
  },
  {
   "cell_type": "markdown",
   "metadata": {},
   "source": [
    "# Data Understanding "
   ]
  },
  {
   "cell_type": "code",
   "execution_count": null,
   "metadata": {
    "execution": {
     "iopub.execute_input": "2023-09-21T16:49:13.335102Z",
     "iopub.status.busy": "2023-09-21T16:49:13.334594Z",
     "iopub.status.idle": "2023-09-21T16:49:13.370151Z",
     "shell.execute_reply": "2023-09-21T16:49:13.368990Z",
     "shell.execute_reply.started": "2023-09-21T16:49:13.335057Z"
    }
   },
   "outputs": [],
   "source": [
    "train_data.head()"
   ]
  },
  {
   "cell_type": "markdown",
   "metadata": {},
   "source": [
    "The attributes have the following meaning:\n",
    "* **PassengerId**: a unique identifier for each passenger\n",
    "* **Survived**: that's the target, 0 means the passenger did not survive, while 1 means he/she survived.\n",
    "* **Pclass**: passenger class.\n",
    "* **Name**, **Sex**, **Age**: self-explanatory\n",
    "* **SibSp**: how many siblings & spouses of the passenger aboard the Titanic.\n",
    "* **Parch**: how many children & parents of the passenger aboard the Titanic.\n",
    "* **Ticket**: ticket id\n",
    "* **Fare**: price paid (in pounds)\n",
    "* **Cabin**: passenger's cabin number\n",
    "* **Embarked**: where the passenger embarked the Titanic"
   ]
  },
  {
   "cell_type": "code",
   "execution_count": null,
   "metadata": {
    "execution": {
     "iopub.execute_input": "2023-09-21T16:49:13.374397Z",
     "iopub.status.busy": "2023-09-21T16:49:13.373220Z",
     "iopub.status.idle": "2023-09-21T16:49:13.409002Z",
     "shell.execute_reply": "2023-09-21T16:49:13.407762Z",
     "shell.execute_reply.started": "2023-09-21T16:49:13.374349Z"
    }
   },
   "outputs": [],
   "source": [
    "train_data.info()"
   ]
  },
  {
   "cell_type": "markdown",
   "metadata": {},
   "source": [
    "`Age`,`Cabin`,`Embarked` have null value."
   ]
  },
  {
   "cell_type": "code",
   "execution_count": null,
   "metadata": {
    "execution": {
     "iopub.execute_input": "2023-09-21T16:49:13.410732Z",
     "iopub.status.busy": "2023-09-21T16:49:13.410404Z",
     "iopub.status.idle": "2023-09-21T16:49:13.431669Z",
     "shell.execute_reply": "2023-09-21T16:49:13.430146Z",
     "shell.execute_reply.started": "2023-09-21T16:49:13.410704Z"
    }
   },
   "outputs": [],
   "source": [
    "total = train_data.isnull().sum().sort_values(ascending=False)\n",
    "percent = (train_data.isnull().sum()/train_data.isnull().count()).sort_values(ascending=False)\n",
    "missing_data = pd.concat([total, percent], axis=1, keys=['Total', 'Percent'])\n",
    "missing_data"
   ]
  },
  {
   "cell_type": "markdown",
   "metadata": {},
   "source": [
    "77% of `Cabin` are null value. so we will ignore it.\n",
    "\n",
    "For`Age`, we can fill with median value. \n",
    "For `Name` and `Ticket`, we will ignore it."
   ]
  },
  {
   "cell_type": "code",
   "execution_count": null,
   "metadata": {
    "execution": {
     "iopub.execute_input": "2023-09-21T16:49:13.434084Z",
     "iopub.status.busy": "2023-09-21T16:49:13.433556Z",
     "iopub.status.idle": "2023-09-21T16:49:13.475168Z",
     "shell.execute_reply": "2023-09-21T16:49:13.473439Z",
     "shell.execute_reply.started": "2023-09-21T16:49:13.434040Z"
    }
   },
   "outputs": [],
   "source": [
    "train_data.describe()"
   ]
  },
  {
   "cell_type": "markdown",
   "metadata": {},
   "source": [
    "according to `mean`, there are only 38% of the training set is **Survived**.\n"
   ]
  },
  {
   "cell_type": "markdown",
   "metadata": {},
   "source": [
    "**Checking the features' values**"
   ]
  },
  {
   "cell_type": "code",
   "execution_count": null,
   "metadata": {
    "execution": {
     "iopub.execute_input": "2023-09-21T16:49:13.477750Z",
     "iopub.status.busy": "2023-09-21T16:49:13.476984Z",
     "iopub.status.idle": "2023-09-21T16:49:13.489830Z",
     "shell.execute_reply": "2023-09-21T16:49:13.488271Z",
     "shell.execute_reply.started": "2023-09-21T16:49:13.477702Z"
    }
   },
   "outputs": [],
   "source": [
    "train_data[\"Survived\"].value_counts()"
   ]
  },
  {
   "cell_type": "code",
   "execution_count": null,
   "metadata": {
    "execution": {
     "iopub.execute_input": "2023-09-21T16:49:13.492304Z",
     "iopub.status.busy": "2023-09-21T16:49:13.491926Z",
     "iopub.status.idle": "2023-09-21T16:49:13.507983Z",
     "shell.execute_reply": "2023-09-21T16:49:13.506498Z",
     "shell.execute_reply.started": "2023-09-21T16:49:13.492273Z"
    }
   },
   "outputs": [],
   "source": [
    "train_data[\"Pclass\"].value_counts()"
   ]
  },
  {
   "cell_type": "code",
   "execution_count": null,
   "metadata": {
    "execution": {
     "iopub.execute_input": "2023-09-21T16:49:13.511037Z",
     "iopub.status.busy": "2023-09-21T16:49:13.509418Z",
     "iopub.status.idle": "2023-09-21T16:49:13.529441Z",
     "shell.execute_reply": "2023-09-21T16:49:13.528359Z",
     "shell.execute_reply.started": "2023-09-21T16:49:13.510997Z"
    }
   },
   "outputs": [],
   "source": [
    "train_data[\"Sex\"].value_counts()"
   ]
  },
  {
   "cell_type": "code",
   "execution_count": null,
   "metadata": {
    "execution": {
     "iopub.execute_input": "2023-09-21T16:49:13.533582Z",
     "iopub.status.busy": "2023-09-21T16:49:13.533024Z",
     "iopub.status.idle": "2023-09-21T16:49:13.543967Z",
     "shell.execute_reply": "2023-09-21T16:49:13.543017Z",
     "shell.execute_reply.started": "2023-09-21T16:49:13.533550Z"
    }
   },
   "outputs": [],
   "source": [
    "train_data[\"Embarked\"].value_counts()"
   ]
  },
  {
   "cell_type": "markdown",
   "metadata": {},
   "source": [
    "The Embarked attribute tells us where the passenger embarked: C=Cherbourg, Q=Queenstown, S=Southampton."
   ]
  },
  {
   "cell_type": "markdown",
   "metadata": {},
   "source": [
    "# Data preprocessing"
   ]
  },
  {
   "cell_type": "markdown",
   "metadata": {},
   "source": [
    "Split the data into **feature** and **label**."
   ]
  },
  {
   "cell_type": "code",
   "execution_count": null,
   "metadata": {
    "execution": {
     "iopub.execute_input": "2023-09-21T16:49:13.546071Z",
     "iopub.status.busy": "2023-09-21T16:49:13.545390Z",
     "iopub.status.idle": "2023-09-21T16:49:13.587067Z",
     "shell.execute_reply": "2023-09-21T16:49:13.585592Z",
     "shell.execute_reply.started": "2023-09-21T16:49:13.546036Z"
    }
   },
   "outputs": [],
   "source": [
    "x_train = train_data.drop(\"Survived\", axis=1)\n",
    "y_train = train_data[\"Survived\"]\n",
    "\n",
    "x_train"
   ]
  },
  {
   "cell_type": "code",
   "execution_count": null,
   "metadata": {
    "execution": {
     "iopub.execute_input": "2023-09-21T16:49:13.589196Z",
     "iopub.status.busy": "2023-09-21T16:49:13.588664Z",
     "iopub.status.idle": "2023-09-21T16:49:13.598745Z",
     "shell.execute_reply": "2023-09-21T16:49:13.597458Z",
     "shell.execute_reply.started": "2023-09-21T16:49:13.589156Z"
    }
   },
   "outputs": [],
   "source": [
    "y_train"
   ]
  },
  {
   "cell_type": "markdown",
   "metadata": {},
   "source": [
    "buliding preprocessing pipeline for **numerical attributes**"
   ]
  },
  {
   "cell_type": "code",
   "execution_count": null,
   "metadata": {
    "execution": {
     "iopub.execute_input": "2023-09-21T16:49:13.601301Z",
     "iopub.status.busy": "2023-09-21T16:49:13.600310Z",
     "iopub.status.idle": "2023-09-21T16:49:15.755558Z",
     "shell.execute_reply": "2023-09-21T16:49:15.754249Z",
     "shell.execute_reply.started": "2023-09-21T16:49:13.601253Z"
    }
   },
   "outputs": [],
   "source": [
    "from sklearn.pipeline import Pipeline\n",
    "from sklearn.impute import SimpleImputer\n",
    "from sklearn.preprocessing import StandardScaler\n",
    "\n",
    "num_pipeline = Pipeline([\n",
    "    (\"imputer\", SimpleImputer(strategy=\"median\")),\n",
    "    (\"sclar\", StandardScaler())\n",
    "])"
   ]
  },
  {
   "cell_type": "markdown",
   "metadata": {},
   "source": [
    "buliding preprocessing pipeline for **categorical attributes**"
   ]
  },
  {
   "cell_type": "code",
   "execution_count": null,
   "metadata": {
    "execution": {
     "iopub.execute_input": "2023-09-21T16:49:15.758412Z",
     "iopub.status.busy": "2023-09-21T16:49:15.757840Z",
     "iopub.status.idle": "2023-09-21T16:49:15.766660Z",
     "shell.execute_reply": "2023-09-21T16:49:15.765624Z",
     "shell.execute_reply.started": "2023-09-21T16:49:15.758363Z"
    }
   },
   "outputs": [],
   "source": [
    "from sklearn.preprocessing import OrdinalEncoder, OneHotEncoder\n",
    "\n",
    "cat_pipeline = Pipeline([\n",
    "        (\"ordinal_encoder\", OrdinalEncoder()),    \n",
    "        (\"imputer\", SimpleImputer(strategy=\"most_frequent\")),\n",
    "        (\"cat_encoder\", OneHotEncoder(sparse=False)),\n",
    "    ])"
   ]
  },
  {
   "cell_type": "markdown",
   "metadata": {},
   "source": [
    "Combine **Categorical pipeline** and **Numerical pipeline** "
   ]
  },
  {
   "cell_type": "code",
   "execution_count": null,
   "metadata": {
    "execution": {
     "iopub.execute_input": "2023-09-21T16:49:15.769063Z",
     "iopub.status.busy": "2023-09-21T16:49:15.768319Z",
     "iopub.status.idle": "2023-09-21T16:49:15.814858Z",
     "shell.execute_reply": "2023-09-21T16:49:15.812716Z",
     "shell.execute_reply.started": "2023-09-21T16:49:15.769026Z"
    }
   },
   "outputs": [],
   "source": [
    "from sklearn.compose import ColumnTransformer\n",
    "\n",
    "num_attribs = [\"Age\", \"SibSp\", \"Parch\", \"Fare\"]\n",
    "cat_attribs = [\"Pclass\", \"Sex\", \"Embarked\"]\n",
    "\n",
    "preprocess_pipeline = ColumnTransformer([\n",
    "        (\"num\", num_pipeline, num_attribs),\n",
    "        (\"cat\", cat_pipeline, cat_attribs),\n",
    "    ])"
   ]
  },
  {
   "cell_type": "markdown",
   "metadata": {},
   "source": [
    "**Transform the data**"
   ]
  },
  {
   "cell_type": "code",
   "execution_count": null,
   "metadata": {
    "execution": {
     "iopub.execute_input": "2023-09-21T17:24:03.396453Z",
     "iopub.status.busy": "2023-09-21T17:24:03.396060Z",
     "iopub.status.idle": "2023-09-21T17:24:03.437878Z",
     "shell.execute_reply": "2023-09-21T17:24:03.436855Z",
     "shell.execute_reply.started": "2023-09-21T17:24:03.396424Z"
    }
   },
   "outputs": [],
   "source": [
    "X_train_tran = preprocess_pipeline.fit_transform(x_train)\n",
    "test_data_tran = preprocess_pipeline.fit_transform(test_data)\n",
    "print(\"X_train_tran.shape :\",X_train_tran.shape)\n",
    "print(\"test_data_tran.shape :\",test_data_tran.shape)"
   ]
  },
  {
   "cell_type": "markdown",
   "metadata": {},
   "source": [
    "# Modeling"
   ]
  },
  {
   "cell_type": "markdown",
   "metadata": {},
   "source": [
    "I will use `RandomForestClassifier`"
   ]
  },
  {
   "cell_type": "code",
   "execution_count": null,
   "metadata": {
    "execution": {
     "iopub.execute_input": "2023-09-21T17:24:07.927566Z",
     "iopub.status.busy": "2023-09-21T17:24:07.927165Z",
     "iopub.status.idle": "2023-09-21T17:24:08.245481Z",
     "shell.execute_reply": "2023-09-21T17:24:08.243878Z",
     "shell.execute_reply.started": "2023-09-21T17:24:07.927535Z"
    }
   },
   "outputs": [],
   "source": [
    "from sklearn.ensemble import RandomForestClassifier\n",
    "\n",
    "forest_clf = RandomForestClassifier(n_estimators=100, random_state=42)\n",
    "forest_clf.fit(X_train_tran, y_train)"
   ]
  },
  {
   "cell_type": "code",
   "execution_count": null,
   "metadata": {
    "execution": {
     "iopub.execute_input": "2023-09-21T17:24:09.386349Z",
     "iopub.status.busy": "2023-09-21T17:24:09.385953Z",
     "iopub.status.idle": "2023-09-21T17:24:12.360516Z",
     "shell.execute_reply": "2023-09-21T17:24:12.359067Z",
     "shell.execute_reply.started": "2023-09-21T17:24:09.386319Z"
    }
   },
   "outputs": [],
   "source": [
    "from sklearn.model_selection import cross_val_score\n",
    "\n",
    "forest_scores = cross_val_score(forest_clf, X_train_tran, y_train, cv=10)\n",
    "\n",
    "forest_scores.mean()"
   ]
  },
  {
   "cell_type": "markdown",
   "metadata": {},
   "source": [
    "**support vector classifier**"
   ]
  },
  {
   "cell_type": "code",
   "execution_count": null,
   "metadata": {
    "execution": {
     "iopub.execute_input": "2023-09-21T17:24:14.694834Z",
     "iopub.status.busy": "2023-09-21T17:24:14.693599Z",
     "iopub.status.idle": "2023-09-21T17:24:14.955900Z",
     "shell.execute_reply": "2023-09-21T17:24:14.954421Z",
     "shell.execute_reply.started": "2023-09-21T17:24:14.694780Z"
    }
   },
   "outputs": [],
   "source": [
    "from sklearn.svm import SVC\n",
    "\n",
    "svm_clf = SVC(gamma=\"auto\")\n",
    "svm_scores = cross_val_score(svm_clf, X_train_tran, y_train, cv=10)\n",
    "\n",
    "svm_scores.mean()"
   ]
  },
  {
   "cell_type": "markdown",
   "metadata": {},
   "source": [
    "**plot the scores**"
   ]
  },
  {
   "cell_type": "code",
   "execution_count": null,
   "metadata": {
    "execution": {
     "iopub.execute_input": "2023-09-21T17:24:16.429360Z",
     "iopub.status.busy": "2023-09-21T17:24:16.428924Z",
     "iopub.status.idle": "2023-09-21T17:24:16.696294Z",
     "shell.execute_reply": "2023-09-21T17:24:16.694717Z",
     "shell.execute_reply.started": "2023-09-21T17:24:16.429327Z"
    }
   },
   "outputs": [],
   "source": [
    "import matplotlib.pyplot as plt\n",
    "\n",
    "plt.figure(figsize=(8, 4))\n",
    "plt.plot([1]*10, svm_scores, \".\")\n",
    "plt.plot([2]*10, forest_scores, \".\")\n",
    "plt.boxplot([svm_scores, forest_scores], labels=(\"SVM\", \"Random Forest\"))\n",
    "plt.ylabel(\"Accuracy\")\n",
    "plt.show()"
   ]
  },
  {
   "cell_type": "markdown",
   "metadata": {},
   "source": [
    "therefore we will use **SVC**."
   ]
  },
  {
   "cell_type": "code",
   "execution_count": null,
   "metadata": {
    "execution": {
     "iopub.execute_input": "2023-09-21T17:24:18.380230Z",
     "iopub.status.busy": "2023-09-21T17:24:18.379130Z",
     "iopub.status.idle": "2023-09-21T17:24:18.424558Z",
     "shell.execute_reply": "2023-09-21T17:24:18.423224Z",
     "shell.execute_reply.started": "2023-09-21T17:24:18.380191Z"
    }
   },
   "outputs": [],
   "source": [
    "svm_clf.fit(X_train_tran, y_train)\n",
    "\n",
    "y_pred = svm_clf.predict(test_data_tran)\n",
    "\n",
    "y_pred.shape"
   ]
  },
  {
   "cell_type": "code",
   "execution_count": null,
   "metadata": {
    "execution": {
     "iopub.execute_input": "2023-09-21T17:24:19.932449Z",
     "iopub.status.busy": "2023-09-21T17:24:19.932038Z",
     "iopub.status.idle": "2023-09-21T17:24:19.940311Z",
     "shell.execute_reply": "2023-09-21T17:24:19.938946Z",
     "shell.execute_reply.started": "2023-09-21T17:24:19.932416Z"
    }
   },
   "outputs": [],
   "source": [
    "test_data.shape"
   ]
  },
  {
   "cell_type": "markdown",
   "metadata": {},
   "source": [
    "# Submission"
   ]
  },
  {
   "cell_type": "code",
   "execution_count": null,
   "metadata": {
    "execution": {
     "iopub.execute_input": "2023-09-21T17:24:42.880378Z",
     "iopub.status.busy": "2023-09-21T17:24:42.879970Z",
     "iopub.status.idle": "2023-09-21T17:24:42.893245Z",
     "shell.execute_reply": "2023-09-21T17:24:42.891922Z",
     "shell.execute_reply.started": "2023-09-21T17:24:42.880349Z"
    }
   },
   "outputs": [],
   "source": [
    "# Create Submission\n",
    "\n",
    "svm_sub = pd.DataFrame({\n",
    "    \"PassengerId\" : test_data[\"PassengerId\"],\n",
    "    \"Survived\" : y_pred\n",
    "})\n",
    "\n",
    "svm_sub.head()"
   ]
  },
  {
   "cell_type": "code",
   "execution_count": null,
   "metadata": {
    "execution": {
     "iopub.execute_input": "2023-09-21T17:26:00.349381Z",
     "iopub.status.busy": "2023-09-21T17:26:00.348782Z",
     "iopub.status.idle": "2023-09-21T17:26:00.361216Z",
     "shell.execute_reply": "2023-09-21T17:26:00.359765Z",
     "shell.execute_reply.started": "2023-09-21T17:26:00.349345Z"
    }
   },
   "outputs": [],
   "source": [
    "svm_sub.to_csv(\"submission.csv\", index=False)"
   ]
  },
  {
   "cell_type": "code",
   "execution_count": null,
   "metadata": {},
   "outputs": [],
   "source": []
  }
 ],
 "metadata": {
  "kernelspec": {
   "display_name": "Python 3 (ipykernel)",
   "language": "python",
   "name": "python3"
  },
  "language_info": {
   "codemirror_mode": {
    "name": "ipython",
    "version": 3
   },
   "file_extension": ".py",
   "mimetype": "text/x-python",
   "name": "python",
   "nbconvert_exporter": "python",
   "pygments_lexer": "ipython3",
   "version": "3.9.13"
  }
 },
 "nbformat": 4,
 "nbformat_minor": 4
}
