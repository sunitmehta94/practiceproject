{
 "cells": [
  {
   "cell_type": "markdown",
   "metadata": {
    "_uuid": "ffede44b4c98b19fe8dd2ed0c6e4cd7a0d496a98"
   },
   "source": [
    "***Reading data into R***\n",
    "* lets read the data into R and load the desired packages"
   ]
  },
  {
   "cell_type": "code",
   "execution_count": null,
   "metadata": {
    "_execution_state": "idle",
    "_kg_hide-input": true,
    "_kg_hide-output": true,
    "_uuid": "d5bd023d88686e3b24f9ae87156e0faf35ce92d5",
    "scrolled": true
   },
   "outputs": [],
   "source": [
    "library(ggplot2)\n",
    "library(dplyr)\n",
    "library(readr)\n",
    "library(tidyverse)\n",
    "library(car)\n",
    "Student_data <- read.csv(\"https://github.com/dsrscientist/dataset4/blob/main/Grades.csv\", header=TRUE, sep=\",\")\n",
    "summary(Student_data)#summary of variables"
   ]
  },
  {
   "cell_type": "code",
   "execution_count": null,
   "metadata": {
    "_kg_hide-input": true,
    "_kg_hide-output": false,
    "_uuid": "1774e64b3cab333b354a6abcc1adf3c65afdbcc5"
   },
   "outputs": [],
   "source": [
    "summary(Student_data$G3) "
   ]
  },
  {
   "cell_type": "markdown",
   "metadata": {
    "_uuid": "0399c9f571ccdc71092aea5d7702c9906658574f"
   },
   "source": [
    "histogram of final grade"
   ]
  },
  {
   "cell_type": "code",
   "execution_count": null,
   "metadata": {
    "_kg_hide-input": true,
    "_kg_hide-output": false,
    "_uuid": "d57bbf520657a139e86321cca9b946fa84199a4f",
    "scrolled": true
   },
   "outputs": [],
   "source": [
    "hist(Student_data$G3, \n",
    "     main=\"Histogram for Final Grade G3\", \n",
    "     xlab=\"Students' final grade\", \n",
    "     border=\"blue\", \n",
    "     col=\"green\",\n",
    "     las=1, \n",
    "     breaks=15)"
   ]
  },
  {
   "cell_type": "markdown",
   "metadata": {
    "_uuid": "60858212e268019321961e6aecc434ac4286a177"
   },
   "source": [
    "The above histogram shows that there is unusual number of zeros in student's grade which could be due to absence of students or disqualifying, otherwise the distribution looks close to normal"
   ]
  },
  {
   "cell_type": "markdown",
   "metadata": {
    "_uuid": "8d222f177563fe2c47d59d3907dc647d52db6dce"
   },
   "source": [
    "now lets look at the frequency table of final grade(G3)"
   ]
  },
  {
   "cell_type": "code",
   "execution_count": null,
   "metadata": {
    "_kg_hide-input": true,
    "_kg_hide-output": false,
    "_uuid": "1c3d691787ef12142213373cc0dea7083045f640"
   },
   "outputs": [],
   "source": [
    "table(Student_data$G3)"
   ]
  },
  {
   "cell_type": "markdown",
   "metadata": {
    "_uuid": "367e15902107f9a902acd9a229a7a0b16b04a053"
   },
   "source": [
    "**Variable Gender**"
   ]
  },
  {
   "cell_type": "code",
   "execution_count": null,
   "metadata": {
    "_uuid": "08976665035c67ade9a72fe8ac0d418a56a8f99c"
   },
   "outputs": [],
   "source": [
    " ggplot(Student_data, aes(x = sex, y = G3)) + \n",
    "  geom_boxplot(aes(fill = sex),alpha = .6,size = 1) + \n",
    "  scale_fill_brewer(palette = \"Spectral\") + \n",
    "  stat_summary(fun.y = \"mean\", geom = \"point\", shape= 23, size= 3, fill= \"white\") +\n",
    "  ggtitle(\"Grade distribution by gender\") + \n",
    "  theme(axis.title.y=element_blank()) + theme(axis.title.x=element_blank())\n",
    " "
   ]
  },
  {
   "cell_type": "markdown",
   "metadata": {
    "_uuid": "d65360a2ad7a873f0c0269d0d727fc1ea4b09559"
   },
   "source": [
    "The above plot shows that there is a difference in grades of males and female students but we cant say this with certainty. To achieve this we will move onto hypothesis testing and use t.test function to comapair the grade difference between the two genders. \n",
    "\n",
    "*** H0 : There is no difference in final grades of male and female students.\n",
    "* H1 : There is significant difference between male and female student final grades.**"
   ]
  },
  {
   "cell_type": "code",
   "execution_count": null,
   "metadata": {
    "_uuid": "1e07fd74d1787f33274a8ae1a399564f0395566a"
   },
   "outputs": [],
   "source": [
    "#testing hypothesis\n",
    " ht1<- t.test(G3~sex,data=Student_data,subset=sex%in%c('M','F'))\n",
    " ht1"
   ]
  },
  {
   "cell_type": "markdown",
   "metadata": {
    "_uuid": "38c674a4bfe37228339876425bc33b2d43152273"
   },
   "source": [
    "By looking the results of the t test, there is an evidence that male students' final grades are significantly higher than femal students at 0.05 alpha level\n",
    " "
   ]
  },
  {
   "cell_type": "markdown",
   "metadata": {
    "_uuid": "644808a45e18b2031895d2b5008f77aeab4eecf0"
   },
   "source": [
    "**Variable Age**\n",
    "plotting bar chart of age"
   ]
  },
  {
   "cell_type": "code",
   "execution_count": null,
   "metadata": {
    "_uuid": "0ba2450a53e623dc9a277d7d9b88506bcc84ccd3"
   },
   "outputs": [],
   "source": [
    "ggplot(Student_data,aes(x=factor(age)))+geom_bar(stat=\"count\",width=0.7,fill=\"steelblue\")+theme_minimal()\n",
    " "
   ]
  },
  {
   "cell_type": "markdown",
   "metadata": {
    "_uuid": "a4c82437190d193161fbf9aa0dc6164625c4d453"
   },
   "source": [
    "**Age vs final grade**"
   ]
  },
  {
   "cell_type": "code",
   "execution_count": null,
   "metadata": {
    "_uuid": "7a12edc0e4b1726103839d4c30a94d19bf974220"
   },
   "outputs": [],
   "source": [
    " Student_data$age=factor(Student_data$age)\n",
    "  ggplot(Student_data, aes(x=age, y=G3, fill=age)) + geom_boxplot()+labs(title=\"Plot of final Grades by age\",x=\"age\", y = \"final Grade\")+\n",
    "   theme_classic()\n"
   ]
  },
  {
   "cell_type": "markdown",
   "metadata": {
    "_uuid": "9d31f737001f15fd36b70436c5643d8ad00c7dcf"
   },
   "source": [
    "The above plot shows that the median grades of the three age groups(15,16,17) are similar. Note the skewness of age group 19. (may be due to sample size).\n",
    "Age group 20 seems to score highest grades among all.\n"
   ]
  },
  {
   "cell_type": "markdown",
   "metadata": {
    "_uuid": "a17602a3fe7b9a1ae360e6011cebf76ecba99432"
   },
   "source": []
  },
  {
   "cell_type": "markdown",
   "metadata": {
    "_uuid": "66e3b364b58f897803fdda3d416abb2727c1525b"
   },
   "source": [
    "**ANOVA** to find the difference among the age and their grades"
   ]
  },
  {
   "cell_type": "code",
   "execution_count": null,
   "metadata": {
    "_kg_hide-output": true,
    "_uuid": "3df789943575ee6399a48e5c24296844274d9f67"
   },
   "outputs": [],
   "source": [
    "aov1 <- aov(G3 ~ age, data = Student_data)\n",
    " TukeyHSD(aov1)"
   ]
  },
  {
   "cell_type": "markdown",
   "metadata": {
    "_uuid": "9e2be5bc4b82037ccaa76d487b949babf2b41b96"
   },
   "source": [
    "The output shows that there is no difference in final grades among different age groups. Note the Adj p values which are all higher than 0.05."
   ]
  },
  {
   "cell_type": "markdown",
   "metadata": {
    "_uuid": "0319060505167839f5439257fc675bace3841f05"
   },
   "source": [
    "Checking the assumption of ANOVA (homogeniety of variance)\n"
   ]
  },
  {
   "cell_type": "code",
   "execution_count": null,
   "metadata": {
    "_kg_hide-output": true,
    "_uuid": "b3b7c302b31212f6a773ece91c66a64976c7acd0"
   },
   "outputs": [],
   "source": [
    "library(car)\n",
    "leveneTest(G3 ~ age, data = Student_data)"
   ]
  },
  {
   "cell_type": "markdown",
   "metadata": {
    "_kg_hide-output": false,
    "_uuid": "05b8caa73269f15b6bec4df2cd92163fcb7b2f25"
   },
   "source": [
    "The output indicates that we can assume equality of variances. Note the p value (0.74) higher than 0.05"
   ]
  },
  {
   "cell_type": "markdown",
   "metadata": {
    "_uuid": "9f27e9c3c3373ab998c05fa03ffdc5e05cc309d5"
   },
   "source": [
    "**Variable Father's education (Fedu)**\n"
   ]
  },
  {
   "cell_type": "code",
   "execution_count": null,
   "metadata": {
    "_kg_hide-output": false,
    "_uuid": "c284e09cb70699fad412ee6679312dace611798b"
   },
   "outputs": [],
   "source": [
    "Student_data$Fedu=factor(Student_data$Fedu)\n",
    " ggplot(Student_data, aes(x = Fedu, y = G3)) + \n",
    "   geom_boxplot(aes(fill = Fedu),alpha = .6,size = 1) + \n",
    "   scale_fill_brewer(palette = \"Set2\") + \n",
    "   stat_summary(fun.y = \"mean\", geom = \"point\", shape= 23, size= 3, fill= \"white\") +\n",
    "   ggtitle(\"Grade distribution by father's edu\") + \n",
    "   theme(axis.title.y=element_blank()) + theme(axis.title.x=element_blank())"
   ]
  },
  {
   "cell_type": "markdown",
   "metadata": {
    "_uuid": "04116ba3eeecec706fc68b486202de236da41f04"
   },
   "source": [
    "The above graph shows that there is difference in grades depending on fathers education but we dont know if :\n",
    "1. The difference is significant.\n",
    "1. Exactly what groups differ in their grades.\n",
    "To address this, we move on to ANOVA method to locate any significant differences.\n"
   ]
  },
  {
   "cell_type": "code",
   "execution_count": null,
   "metadata": {
    "_kg_hide-output": true,
    "_uuid": "d815bd823d12889d0f81cd0d7bd80e79853472d5"
   },
   "outputs": [],
   "source": [
    "res.aov <- aov(G3 ~ Fedu, data = Student_data)\n",
    " # Summary of the analysis\n",
    " summary(res.aov)\n",
    " TukeyHSD(res.aov)"
   ]
  },
  {
   "cell_type": "markdown",
   "metadata": {
    "_uuid": "6c977d10637ed1184318ca768a5410f1ba41cf17"
   },
   "source": [
    "The output shows that only the groups 4-1 differ in their grades (note the adjusted p values less than 0.05).\n",
    " The students whose fathers are highly educated perform better in comparison to the ones whose father are just primary educated."
   ]
  },
  {
   "cell_type": "markdown",
   "metadata": {
    "_uuid": "9cabea0eb9c0bbda1da11ea8655805b04ec2139d"
   },
   "source": [
    "**Checking the assumption of equal varaince**\n"
   ]
  },
  {
   "cell_type": "code",
   "execution_count": null,
   "metadata": {
    "_uuid": "0e46b3932e770b42ce2479a0525ffde472597932"
   },
   "outputs": [],
   "source": [
    "leveneTest(G3 ~ Fedu, data = Student_data)"
   ]
  },
  {
   "cell_type": "markdown",
   "metadata": {
    "_uuid": "95ba1b79c29a64199df314fdb2f5c00389487024"
   },
   "source": [
    "From the output above we can see that the p-value is not less than the significance level of 0.05. This means that there is no evidence to suggest that the variance across groups is statistically significantly different. Therefore, we can assume the homogeneity of variances in the different treatment groups."
   ]
  },
  {
   "cell_type": "markdown",
   "metadata": {
    "_uuid": "8fc73ca23e6467a22259cad87254d4e93403b3fb"
   },
   "source": [
    "**Mother's Education and Student's performance**\n"
   ]
  },
  {
   "cell_type": "code",
   "execution_count": null,
   "metadata": {
    "_uuid": "db1e53a044f79e13d7c253b9d52b7cf7f0a12ae7"
   },
   "outputs": [],
   "source": [
    "Student_data$Medu=factor(Student_data$Medu)\n",
    " p4 <- ggplot(Student_data, aes(x = Medu, y = G3)) + \n",
    "   geom_boxplot(aes(fill = Medu),alpha = .6,size = 1) + \n",
    "   scale_fill_brewer(palette = \"Spectral\") + \n",
    "   stat_summary(fun.y = \"mean\", geom = \"point\", shape= 23, size= 3, fill= \"white\") +\n",
    "   ggtitle(\"Grade distribution by Mother's education\") + \n",
    "   theme(axis.title.y=element_blank()) + theme(axis.title.x=element_blank())\n",
    " p4"
   ]
  },
  {
   "cell_type": "markdown",
   "metadata": {
    "_uuid": "68de6d2298a971c86e6dba0269b6904ac63abb99"
   },
   "source": [
    "The box plot above shows that the only the distribution of group (0 ie primary educated) is skewed which may be due to small group size. Other groups seem to be nearly normal.\n"
   ]
  },
  {
   "cell_type": "markdown",
   "metadata": {
    "_uuid": "d716f1164906aaf8b6cf420da6b4eec55798d9fe"
   },
   "source": [
    "Applying ANOVA to find and locate exactly which groups differ significantly."
   ]
  },
  {
   "cell_type": "code",
   "execution_count": null,
   "metadata": {
    "_uuid": "764cc7259fe0671b364d4c996c5103bdc7e9bfe8"
   },
   "outputs": [],
   "source": [
    "res.aov2 <- aov(G3 ~ Medu, data = Student_data)\n",
    " TukeyHSD(res.aov2)"
   ]
  },
  {
   "cell_type": "markdown",
   "metadata": {
    "_uuid": "8a4e58b6dbde57dd83d3ebac684190d85e7bd91b"
   },
   "source": [
    "The above output shows that only the groups 4-1 and 4-2 are significantly different (note the adj p-values less than 0.05).\n",
    "Highly educated mothers children score significatly higher than those of  elementary and middle educated mothers. \n",
    "**checking the anova assumption of equal variance :**"
   ]
  },
  {
   "cell_type": "code",
   "execution_count": null,
   "metadata": {
    "_uuid": "742c0218728680a2eef82bf158d2f9b0275500f2"
   },
   "outputs": [],
   "source": [
    "leveneTest(G3 ~ Medu,data=Student_data)"
   ]
  },
  {
   "cell_type": "markdown",
   "metadata": {
    "_uuid": "9e57468ab6a977f133171f3d3240d175969a0786"
   },
   "source": [
    "P value is greater than 0.05 which indicates homogieniety of variance.\n"
   ]
  },
  {
   "cell_type": "markdown",
   "metadata": {
    "_uuid": "65ff2aff2bea0705fb71b72cacc08486c8d6bb98"
   },
   "source": [
    "**Effect of mother's profession on final grades**"
   ]
  },
  {
   "cell_type": "code",
   "execution_count": null,
   "metadata": {
    "_uuid": "42eed88449c10f9e2aaadd4da8a49f210555aa63"
   },
   "outputs": [],
   "source": [
    "p5 <- ggplot(Student_data, aes(x = Mjob, y = G3)) + \n",
    "   geom_boxplot(aes(fill = Mjob),alpha = .6,size = 1) + \n",
    "   scale_fill_brewer(palette = \"Set2\") + \n",
    "   stat_summary(fun.y = \"mean\", geom = \"point\", shape= 23, size= 3, fill= \"white\") +\n",
    "   ggtitle(\"Grade distribution by Mother's profession\") + \n",
    "   theme(axis.title.y=element_blank()) + theme(axis.title.x=element_blank())\n",
    "p5"
   ]
  },
  {
   "cell_type": "markdown",
   "metadata": {
    "_uuid": "c2b2279d5f844d0326a67a9ca1b49dd44ba7454d"
   },
   "source": [
    "The median scores of students whose moms are health professionals have relatively higher grades than others. Also, students whose moms stay at home have least median scores."
   ]
  },
  {
   "cell_type": "markdown",
   "metadata": {
    "_uuid": "b05abdd02d0f03d4a1b42332a25c2678cc21261e"
   },
   "source": [
    "**Lets see which groups differ in grades with respect to mother's profession**\n"
   ]
  },
  {
   "cell_type": "code",
   "execution_count": null,
   "metadata": {
    "_uuid": "8b6f840a741c4c04ec7e052820388768e184338f"
   },
   "outputs": [],
   "source": [
    "res.aov3 <- aov(G3 ~ Mjob, data = Student_data)\n",
    " TukeyHSD(res.aov3)"
   ]
  },
  {
   "cell_type": "markdown",
   "metadata": {
    "_uuid": "4e4cb095f5c55c3549ecc766a1b5c5da2ae1e306"
   },
   "source": [
    "The groups health care professional and stay at home differ significantly."
   ]
  },
  {
   "cell_type": "markdown",
   "metadata": {
    "_uuid": "d61de17673c7a21e86a14a57aa8a080ec061cfa6"
   },
   "source": [
    "levene's test of equal variances ( checking the assumption of ANOVA)\n"
   ]
  },
  {
   "cell_type": "code",
   "execution_count": null,
   "metadata": {
    "_uuid": "d8bb92a05535f98744d5bd33e920116ffcddc8e5"
   },
   "outputs": [],
   "source": [
    " leveneTest(G3~Mjob,data=Student_data)"
   ]
  },
  {
   "cell_type": "markdown",
   "metadata": {
    "_uuid": "34976b0dbc510db80d5af247e21c6ebb220f3054"
   },
   "source": [
    "The test show that the varainces are equal since p-value is greater than 0.05"
   ]
  },
  {
   "cell_type": "markdown",
   "metadata": {
    "_uuid": "f72e961575232195756e74ebdb4ddb92d28c8fbf"
   },
   "source": [
    "**Father's profession effect on final grades**"
   ]
  },
  {
   "cell_type": "code",
   "execution_count": null,
   "metadata": {
    "_uuid": "2630c794683fd846e67e9064fb2173fa2376ad49"
   },
   "outputs": [],
   "source": [
    "p6 <-ggplot(Student_data, aes(x = Fjob, y = G3)) + \n",
    "  geom_boxplot(aes(fill = Fjob),alpha = .6,size = 1) + \n",
    "  scale_fill_brewer(palette = \"Set1\") + \n",
    "  stat_summary(fun.y = \"mean\", geom = \"point\", shape= 23, size= 3, fill= \"white\") +\n",
    "  ggtitle(\"Grade distribution by father's profession\") + \n",
    "  theme(axis.title.y=element_blank()) + theme(axis.title.x=element_blank())\n",
    "p6"
   ]
  },
  {
   "cell_type": "markdown",
   "metadata": {
    "_uuid": "7abcb83113bd17f25eea0a8a68d27e4d333cce00"
   },
   "source": [
    "The above graph shows that thers is not much difference in student's grade with respect to father's profession(notice the medians of first four factors). Only the students whose dads are teachers seem to have Higher median grades but at the same time the grades are much more dispersed than other professions."
   ]
  },
  {
   "cell_type": "markdown",
   "metadata": {
    "_uuid": "5adaf0094cd72d13711291e600b8e8a13910736e"
   },
   "source": [
    "**ANOVA to locate the differences**"
   ]
  },
  {
   "cell_type": "code",
   "execution_count": null,
   "metadata": {
    "_uuid": "f51860596ad9876d3d1dc12d3008bb64577f9cd4"
   },
   "outputs": [],
   "source": [
    "res.aov4 <- aov(G3 ~ Fjob, data = Student_data)\n",
    " TukeyHSD(res.aov4)"
   ]
  },
  {
   "cell_type": "markdown",
   "metadata": {
    "_uuid": "d8c7877705e3a845aee40f85e858aad2179f1720"
   },
   "source": [
    "The results above show that none of the groups vary with respect to final grades**. Father's profession does not seem to effect the grades of the students.**"
   ]
  },
  {
   "cell_type": "code",
   "execution_count": null,
   "metadata": {
    "_uuid": "1f427095ccf4008b0db7f8febc631f861b886763"
   },
   "outputs": [],
   "source": [
    " leveneTest(G3~Fjob,data=Student_data)"
   ]
  },
  {
   "cell_type": "markdown",
   "metadata": {
    "_uuid": "c46a47010615ec89ce41eb03cf56fb04efa313a4"
   },
   "source": [
    "Notice the p value which is higher than 0.05. Therefore , we can assume that variances are equal.\n"
   ]
  }
 ],
 "metadata": {
  "kernelspec": {
   "display_name": "Python 3 (ipykernel)",
   "language": "python",
   "name": "python3"
  },
  "language_info": {
   "codemirror_mode": {
    "name": "ipython",
    "version": 3
   },
   "file_extension": ".py",
   "mimetype": "text/x-python",
   "name": "python",
   "nbconvert_exporter": "python",
   "pygments_lexer": "ipython3",
   "version": "3.9.13"
  }
 },
 "nbformat": 4,
 "nbformat_minor": 1
}
