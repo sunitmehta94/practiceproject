{
 "cells": [
  {
   "cell_type": "markdown",
   "metadata": {},
   "source": [
    "### Getting Started"
   ]
  },
  {
   "cell_type": "code",
   "execution_count": null,
   "metadata": {
    "_cell_guid": "b1076dfc-b9ad-4769-8c92-a6c4dae69d19",
    "_uuid": "8f2839f25d086af736a60e9eeb907d3b93b6e0e5",
    "execution": {
     "iopub.execute_input": "2022-07-02T13:00:07.905798Z",
     "iopub.status.busy": "2022-07-02T13:00:07.905408Z",
     "iopub.status.idle": "2022-07-02T13:00:08.224895Z",
     "shell.execute_reply": "2022-07-02T13:00:08.224077Z",
     "shell.execute_reply.started": "2022-07-02T13:00:07.905766Z"
    }
   },
   "outputs": [],
   "source": [
    "import numpy as np\n",
    "import pandas as pd\n",
    "import matplotlib.pyplot as plt\n",
    "import seaborn as sns\n",
    "\n",
    "from sklearn.preprocessing import MinMaxScaler\n",
    "from sklearn.model_selection import train_test_split\n",
    "\n",
    "from sklearn.linear_model import LinearRegression"
   ]
  },
  {
   "cell_type": "code",
   "execution_count": null,
   "metadata": {
    "execution": {
     "iopub.execute_input": "2022-07-02T13:07:46.281677Z",
     "iopub.status.busy": "2022-07-02T13:07:46.280985Z",
     "iopub.status.idle": "2022-07-02T13:07:46.289640Z",
     "shell.execute_reply": "2022-07-02T13:07:46.288374Z",
     "shell.execute_reply.started": "2022-07-02T13:07:46.281633Z"
    }
   },
   "outputs": [],
   "source": [
    "data = pd.read_csv('https://github.com/dsrscientist/DSData/blob/master/happiness_score_dataset.csv')"
   ]
  },
  {
   "cell_type": "code",
   "execution_count": null,
   "metadata": {
    "execution": {
     "iopub.execute_input": "2022-07-02T13:07:47.827761Z",
     "iopub.status.busy": "2022-07-02T13:07:47.827360Z",
     "iopub.status.idle": "2022-07-02T13:07:47.853140Z",
     "shell.execute_reply": "2022-07-02T13:07:47.852369Z",
     "shell.execute_reply.started": "2022-07-02T13:07:47.827726Z"
    }
   },
   "outputs": [],
   "source": [
    "data"
   ]
  },
  {
   "cell_type": "code",
   "execution_count": null,
   "metadata": {
    "execution": {
     "iopub.execute_input": "2022-07-02T13:07:50.404493Z",
     "iopub.status.busy": "2022-07-02T13:07:50.403429Z",
     "iopub.status.idle": "2022-07-02T13:07:50.410340Z",
     "shell.execute_reply": "2022-07-02T13:07:50.409248Z",
     "shell.execute_reply.started": "2022-07-02T13:07:50.404443Z"
    }
   },
   "outputs": [],
   "source": [
    "data.drop(['Country or region' , 'Overall rank'] , axis = 1 , inplace = True)"
   ]
  },
  {
   "cell_type": "code",
   "execution_count": null,
   "metadata": {
    "execution": {
     "iopub.execute_input": "2022-07-02T13:07:53.619568Z",
     "iopub.status.busy": "2022-07-02T13:07:53.618825Z",
     "iopub.status.idle": "2022-07-02T13:07:53.642446Z",
     "shell.execute_reply": "2022-07-02T13:07:53.641623Z",
     "shell.execute_reply.started": "2022-07-02T13:07:53.619515Z"
    }
   },
   "outputs": [],
   "source": [
    "data"
   ]
  },
  {
   "cell_type": "markdown",
   "metadata": {},
   "source": [
    "### Visualization"
   ]
  },
  {
   "cell_type": "code",
   "execution_count": null,
   "metadata": {},
   "outputs": [],
   "source": [
    "plt.figure(figsize = (9 , 9))\n",
    "sns.heatmap(data.corr() , annot = True , vmin = -1 , vmax = 1)\n",
    "plt.show()"
   ]
  },
  {
   "cell_type": "markdown",
   "metadata": {},
   "source": [
    "### Processing"
   ]
  },
  {
   "cell_type": "code",
   "execution_count": null,
   "metadata": {
    "execution": {
     "iopub.execute_input": "2022-07-02T13:07:57.549931Z",
     "iopub.status.busy": "2022-07-02T13:07:57.549555Z",
     "iopub.status.idle": "2022-07-02T13:07:57.559544Z",
     "shell.execute_reply": "2022-07-02T13:07:57.558522Z",
     "shell.execute_reply.started": "2022-07-02T13:07:57.549901Z"
    }
   },
   "outputs": [],
   "source": [
    "data.isnull().any()"
   ]
  },
  {
   "cell_type": "code",
   "execution_count": null,
   "metadata": {
    "execution": {
     "iopub.execute_input": "2022-07-02T13:07:59.476565Z",
     "iopub.status.busy": "2022-07-02T13:07:59.476124Z",
     "iopub.status.idle": "2022-07-02T13:07:59.484931Z",
     "shell.execute_reply": "2022-07-02T13:07:59.484080Z",
     "shell.execute_reply.started": "2022-07-02T13:07:59.476530Z"
    }
   },
   "outputs": [],
   "source": [
    "data.dtypes"
   ]
  },
  {
   "cell_type": "code",
   "execution_count": null,
   "metadata": {
    "execution": {
     "iopub.execute_input": "2022-07-02T13:08:44.065353Z",
     "iopub.status.busy": "2022-07-02T13:08:44.064962Z",
     "iopub.status.idle": "2022-07-02T13:08:44.072076Z",
     "shell.execute_reply": "2022-07-02T13:08:44.070726Z",
     "shell.execute_reply.started": "2022-07-02T13:08:44.065322Z"
    }
   },
   "outputs": [],
   "source": [
    "y = data['Score']\n",
    "X = data.drop('Score' , axis = 1 ) "
   ]
  },
  {
   "cell_type": "code",
   "execution_count": null,
   "metadata": {
    "execution": {
     "iopub.execute_input": "2022-07-02T13:08:46.779701Z",
     "iopub.status.busy": "2022-07-02T13:08:46.779311Z",
     "iopub.status.idle": "2022-07-02T13:08:46.799628Z",
     "shell.execute_reply": "2022-07-02T13:08:46.798563Z",
     "shell.execute_reply.started": "2022-07-02T13:08:46.779669Z"
    }
   },
   "outputs": [],
   "source": [
    "X"
   ]
  },
  {
   "cell_type": "code",
   "execution_count": null,
   "metadata": {
    "execution": {
     "iopub.execute_input": "2022-07-02T13:09:05.004212Z",
     "iopub.status.busy": "2022-07-02T13:09:05.003807Z",
     "iopub.status.idle": "2022-07-02T13:09:05.013600Z",
     "shell.execute_reply": "2022-07-02T13:09:05.012535Z",
     "shell.execute_reply.started": "2022-07-02T13:09:05.004162Z"
    }
   },
   "outputs": [],
   "source": [
    "scaler = MinMaxScaler()\n",
    "X = pd.DataFrame(scaler.fit_transform(X) , columns = X.columns)"
   ]
  },
  {
   "cell_type": "code",
   "execution_count": null,
   "metadata": {
    "execution": {
     "iopub.execute_input": "2022-07-02T13:09:07.369883Z",
     "iopub.status.busy": "2022-07-02T13:09:07.368918Z",
     "iopub.status.idle": "2022-07-02T13:09:07.390676Z",
     "shell.execute_reply": "2022-07-02T13:09:07.389841Z",
     "shell.execute_reply.started": "2022-07-02T13:09:07.369825Z"
    }
   },
   "outputs": [],
   "source": [
    "X"
   ]
  },
  {
   "cell_type": "code",
   "execution_count": null,
   "metadata": {
    "execution": {
     "iopub.execute_input": "2022-07-02T13:09:47.898074Z",
     "iopub.status.busy": "2022-07-02T13:09:47.897693Z",
     "iopub.status.idle": "2022-07-02T13:09:47.904729Z",
     "shell.execute_reply": "2022-07-02T13:09:47.903938Z",
     "shell.execute_reply.started": "2022-07-02T13:09:47.898042Z"
    }
   },
   "outputs": [],
   "source": [
    "X_train , X_test , y_train , y_test = train_test_split(X , y , train_size = 0.70)"
   ]
  },
  {
   "cell_type": "code",
   "execution_count": null,
   "metadata": {
    "execution": {
     "iopub.execute_input": "2022-07-02T13:10:03.694097Z",
     "iopub.status.busy": "2022-07-02T13:10:03.693675Z",
     "iopub.status.idle": "2022-07-02T13:10:03.722331Z",
     "shell.execute_reply": "2022-07-02T13:10:03.721128Z",
     "shell.execute_reply.started": "2022-07-02T13:10:03.694061Z"
    }
   },
   "outputs": [],
   "source": [
    "lr = LinearRegression()\n",
    "lr.fit(X_train , y_train)"
   ]
  },
  {
   "cell_type": "code",
   "execution_count": null,
   "metadata": {
    "execution": {
     "iopub.execute_input": "2022-07-02T13:10:26.917776Z",
     "iopub.status.busy": "2022-07-02T13:10:26.917406Z",
     "iopub.status.idle": "2022-07-02T13:10:26.928246Z",
     "shell.execute_reply": "2022-07-02T13:10:26.926984Z",
     "shell.execute_reply.started": "2022-07-02T13:10:26.917746Z"
    }
   },
   "outputs": [],
   "source": [
    "print(f\"Linear Regression R^2 : {lr.score(X_test , y_test)}\")\n"
   ]
  },
  {
   "cell_type": "code",
   "execution_count": null,
   "metadata": {},
   "outputs": [],
   "source": []
  }
 ],
 "metadata": {
  "kernelspec": {
   "display_name": "Python 3 (ipykernel)",
   "language": "python",
   "name": "python3"
  },
  "language_info": {
   "codemirror_mode": {
    "name": "ipython",
    "version": 3
   },
   "file_extension": ".py",
   "mimetype": "text/x-python",
   "name": "python",
   "nbconvert_exporter": "python",
   "pygments_lexer": "ipython3",
   "version": "3.9.13"
  }
 },
 "nbformat": 4,
 "nbformat_minor": 4
}
