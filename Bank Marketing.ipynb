{
 "cells": [
  {
   "cell_type": "code",
   "execution_count": 1,
   "metadata": {
    "execution": {
     "iopub.execute_input": "2020-09-11T17:38:00.450881Z",
     "iopub.status.busy": "2020-09-11T17:38:00.449884Z",
     "iopub.status.idle": "2020-09-11T17:38:02.261569Z",
     "shell.execute_reply": "2020-09-11T17:38:02.260129Z"
    },
    "papermill": {
     "duration": 1.849515,
     "end_time": "2020-09-11T17:38:02.261925",
     "exception": false,
     "start_time": "2020-09-11T17:38:00.412410",
     "status": "completed"
    },
    "scrolled": true,
    "tags": []
   },
   "outputs": [],
   "source": [
    "import numpy as np\n",
    "import pandas as pd\n",
    "import matplotlib.pyplot as plt\n",
    "import seaborn as sns\n",
    "%matplotlib inline\n",
    "import warnings\n",
    "warnings.filterwarnings('ignore')"
   ]
  },
  {
   "cell_type": "markdown",
   "metadata": {
    "papermill": {
     "duration": 0.042938,
     "end_time": "2020-09-11T17:38:02.350662",
     "exception": false,
     "start_time": "2020-09-11T17:38:02.307724",
     "status": "completed"
    },
    "tags": []
   },
   "source": [
    "### Loading Data Modelling Libraries\n",
    "\n",
    "We will use the popular scikit-learn library to develop our machine learning algorithms. In sklearn, algorithms are called Estimators and implemented in their own classes. For data visualization, we will use the matplotlib and seaborn library. Below are common classes to load."
   ]
  },
  {
   "cell_type": "code",
   "execution_count": 2,
   "metadata": {
    "execution": {
     "iopub.execute_input": "2020-09-11T17:38:02.503055Z",
     "iopub.status.busy": "2020-09-11T17:38:02.494503Z",
     "iopub.status.idle": "2020-09-11T17:38:04.824291Z",
     "shell.execute_reply": "2020-09-11T17:38:04.823065Z"
    },
    "papermill": {
     "duration": 2.421474,
     "end_time": "2020-09-11T17:38:04.824500",
     "exception": false,
     "start_time": "2020-09-11T17:38:02.403026",
     "status": "completed"
    },
    "tags": []
   },
   "outputs": [],
   "source": [
    "from sklearn.preprocessing import LabelEncoder,MinMaxScaler,StandardScaler\n",
    "from sklearn.linear_model import LogisticRegression\n",
    "from sklearn.tree import DecisionTreeClassifier\n",
    "from sklearn.ensemble import GradientBoostingClassifier ,RandomForestClassifier ,GradientBoostingClassifier\n",
    "from xgboost import XGBClassifier \n",
    "from sklearn.model_selection import GridSearchCV, RandomizedSearchCV\n",
    "from sklearn.linear_model import Ridge,Lasso\n",
    "from sklearn.metrics import roc_auc_score ,mean_squared_error,accuracy_score,classification_report,roc_curve,confusion_matrix\n",
    "import warnings\n",
    "warnings.filterwarnings('ignore')\n",
    "from scipy.stats.mstats import winsorize\n",
    "from sklearn.feature_selection import RFE\n",
    "from sklearn.model_selection import train_test_split\n",
    "pd.set_option('display.max_columns',None)\n",
    "import six\n",
    "import sys\n",
    "sys.modules['sklearn.externals.six'] = six"
   ]
  },
  {
   "cell_type": "markdown",
   "metadata": {
    "papermill": {
     "duration": 0.030828,
     "end_time": "2020-09-11T17:38:04.890664",
     "exception": false,
     "start_time": "2020-09-11T17:38:04.859836",
     "status": "completed"
    },
    "tags": []
   },
   "source": [
    "## Data Loading and Cleaning\n",
    "\n"
   ]
  },
  {
   "cell_type": "code",
   "execution_count": 3,
   "metadata": {
    "execution": {
     "iopub.execute_input": "2020-09-11T17:38:05.065027Z",
     "iopub.status.busy": "2020-09-11T17:38:05.063930Z",
     "iopub.status.idle": "2020-09-11T17:38:05.253670Z",
     "shell.execute_reply": "2020-09-11T17:38:05.252812Z"
    },
    "papermill": {
     "duration": 0.253198,
     "end_time": "2020-09-11T17:38:05.253813",
     "exception": false,
     "start_time": "2020-09-11T17:38:05.000615",
     "status": "completed"
    },
    "tags": []
   },
   "outputs": [
    {
     "name": "stdout",
     "output_type": "stream",
     "text": [
      "Shape of the data is:  (32950, 14)\n"
     ]
    },
    {
     "data": {
      "text/html": [
       "<div>\n",
       "<style scoped>\n",
       "    .dataframe tbody tr th:only-of-type {\n",
       "        vertical-align: middle;\n",
       "    }\n",
       "\n",
       "    .dataframe tbody tr th {\n",
       "        vertical-align: top;\n",
       "    }\n",
       "\n",
       "    .dataframe thead th {\n",
       "        text-align: right;\n",
       "    }\n",
       "</style>\n",
       "<table border=\"1\" class=\"dataframe\">\n",
       "  <thead>\n",
       "    <tr style=\"text-align: right;\">\n",
       "      <th></th>\n",
       "      <th>age</th>\n",
       "      <th>job</th>\n",
       "      <th>marital</th>\n",
       "      <th>education</th>\n",
       "      <th>default</th>\n",
       "      <th>housing</th>\n",
       "      <th>loan</th>\n",
       "      <th>contact</th>\n",
       "      <th>month</th>\n",
       "      <th>day_of_week</th>\n",
       "      <th>duration</th>\n",
       "      <th>campaign</th>\n",
       "      <th>poutcome</th>\n",
       "      <th>y</th>\n",
       "    </tr>\n",
       "  </thead>\n",
       "  <tbody>\n",
       "    <tr>\n",
       "      <th>0</th>\n",
       "      <td>49</td>\n",
       "      <td>1</td>\n",
       "      <td>1</td>\n",
       "      <td>2</td>\n",
       "      <td>0</td>\n",
       "      <td>0</td>\n",
       "      <td>0</td>\n",
       "      <td>0</td>\n",
       "      <td>7</td>\n",
       "      <td>4</td>\n",
       "      <td>227</td>\n",
       "      <td>4</td>\n",
       "      <td>1</td>\n",
       "      <td>0</td>\n",
       "    </tr>\n",
       "    <tr>\n",
       "      <th>1</th>\n",
       "      <td>37</td>\n",
       "      <td>2</td>\n",
       "      <td>1</td>\n",
       "      <td>6</td>\n",
       "      <td>0</td>\n",
       "      <td>0</td>\n",
       "      <td>0</td>\n",
       "      <td>1</td>\n",
       "      <td>7</td>\n",
       "      <td>4</td>\n",
       "      <td>202</td>\n",
       "      <td>2</td>\n",
       "      <td>0</td>\n",
       "      <td>0</td>\n",
       "    </tr>\n",
       "    <tr>\n",
       "      <th>2</th>\n",
       "      <td>55</td>\n",
       "      <td>5</td>\n",
       "      <td>1</td>\n",
       "      <td>0</td>\n",
       "      <td>0</td>\n",
       "      <td>0</td>\n",
       "      <td>0</td>\n",
       "      <td>0</td>\n",
       "      <td>3</td>\n",
       "      <td>1</td>\n",
       "      <td>550</td>\n",
       "      <td>1</td>\n",
       "      <td>1</td>\n",
       "      <td>1</td>\n",
       "    </tr>\n",
       "    <tr>\n",
       "      <th>3</th>\n",
       "      <td>36</td>\n",
       "      <td>0</td>\n",
       "      <td>1</td>\n",
       "      <td>6</td>\n",
       "      <td>0</td>\n",
       "      <td>1</td>\n",
       "      <td>0</td>\n",
       "      <td>1</td>\n",
       "      <td>6</td>\n",
       "      <td>1</td>\n",
       "      <td>120</td>\n",
       "      <td>2</td>\n",
       "      <td>1</td>\n",
       "      <td>0</td>\n",
       "    </tr>\n",
       "    <tr>\n",
       "      <th>4</th>\n",
       "      <td>55</td>\n",
       "      <td>5</td>\n",
       "      <td>0</td>\n",
       "      <td>6</td>\n",
       "      <td>0</td>\n",
       "      <td>0</td>\n",
       "      <td>0</td>\n",
       "      <td>0</td>\n",
       "      <td>4</td>\n",
       "      <td>3</td>\n",
       "      <td>368</td>\n",
       "      <td>2</td>\n",
       "      <td>1</td>\n",
       "      <td>0</td>\n",
       "    </tr>\n",
       "  </tbody>\n",
       "</table>\n",
       "</div>"
      ],
      "text/plain": [
       "   age  job  marital  education  default  housing  loan  contact  month  \\\n",
       "0   49    1        1          2        0        0     0        0      7   \n",
       "1   37    2        1          6        0        0     0        1      7   \n",
       "2   55    5        1          0        0        0     0        0      3   \n",
       "3   36    0        1          6        0        1     0        1      6   \n",
       "4   55    5        0          6        0        0     0        0      4   \n",
       "\n",
       "   day_of_week  duration  campaign  poutcome  y  \n",
       "0            4       227         4         1  0  \n",
       "1            4       202         2         0  0  \n",
       "2            1       550         1         1  1  \n",
       "3            1       120         2         1  0  \n",
       "4            3       368         2         1  0  "
      ]
     },
     "execution_count": 3,
     "metadata": {},
     "output_type": "execute_result"
    }
   ],
   "source": [
    "# accessing to the folder where the file is stored\n",
    "path = '../input/banking-project-term-deposit/preprocessed_data.csv'\n",
    "\n",
    "# Load the dataframe\n",
    "dataframe = pd.read_csv(path)\n",
    "\n",
    "print('Shape of the data is: ',dataframe.shape)\n",
    "\n",
    "dataframe.head()\n",
    "\n"
   ]
  },
  {
   "cell_type": "markdown",
   "metadata": {
    "papermill": {
     "duration": 0.035049,
     "end_time": "2020-09-11T17:38:05.471755",
     "exception": false,
     "start_time": "2020-09-11T17:38:05.436706",
     "status": "completed"
    },
    "tags": []
   },
   "source": [
    "#### PREPARING THE TRAIN AND TEST DATA\n"
   ]
  },
  {
   "cell_type": "code",
   "execution_count": 4,
   "metadata": {
    "execution": {
     "iopub.execute_input": "2020-09-11T17:38:05.555230Z",
     "iopub.status.busy": "2020-09-11T17:38:05.550132Z",
     "iopub.status.idle": "2020-09-11T17:38:05.563268Z",
     "shell.execute_reply": "2020-09-11T17:38:05.562463Z"
    },
    "papermill": {
     "duration": 0.055589,
     "end_time": "2020-09-11T17:38:05.563409",
     "exception": false,
     "start_time": "2020-09-11T17:38:05.507820",
     "status": "completed"
    },
    "tags": []
   },
   "outputs": [],
   "source": [
    "# Predictors\n",
    "X = dataframe.iloc[:,:-1]\n",
    "\n",
    "# Target\n",
    "y = dataframe.iloc[:,-1]\n",
    "\n",
    "# Dividing the data into train and test subsets\n",
    "x_train,x_val,y_train,y_val = train_test_split(X,y,test_size=0.2,random_state=42)\n"
   ]
  },
  {
   "cell_type": "markdown",
   "metadata": {
    "papermill": {
     "duration": 0.033187,
     "end_time": "2020-09-11T17:38:05.630102",
     "exception": false,
     "start_time": "2020-09-11T17:38:05.596915",
     "status": "completed"
    },
    "tags": []
   },
   "source": [
    "#### FITTING THE MODEL AND PREDICTING THE VALUES"
   ]
  },
  {
   "cell_type": "code",
   "execution_count": 5,
   "metadata": {
    "execution": {
     "iopub.execute_input": "2020-09-11T17:38:05.709779Z",
     "iopub.status.busy": "2020-09-11T17:38:05.708826Z",
     "iopub.status.idle": "2020-09-11T17:38:06.258225Z",
     "shell.execute_reply": "2020-09-11T17:38:06.256622Z"
    },
    "papermill": {
     "duration": 0.595774,
     "end_time": "2020-09-11T17:38:06.258521",
     "exception": false,
     "start_time": "2020-09-11T17:38:05.662747",
     "status": "completed"
    },
    "tags": []
   },
   "outputs": [],
   "source": [
    "# run Logistic Regression model\n",
    "model = LogisticRegression()\n",
    "# fitting the model\n",
    "model.fit(x_train, y_train)\n",
    "# predicting the values\n",
    "y_scores = model.predict(x_val)\n",
    "\n"
   ]
  },
  {
   "cell_type": "markdown",
   "metadata": {
    "papermill": {
     "duration": 0.040463,
     "end_time": "2020-09-11T17:38:06.340129",
     "exception": false,
     "start_time": "2020-09-11T17:38:06.299666",
     "status": "completed"
    },
    "tags": []
   },
   "source": [
    "#### GETTING THE METRICS TO CHECK OUR MODEL PERFORMANCE"
   ]
  },
  {
   "cell_type": "code",
   "execution_count": 6,
   "metadata": {
    "execution": {
     "iopub.execute_input": "2020-09-11T17:38:06.442913Z",
     "iopub.status.busy": "2020-09-11T17:38:06.441524Z",
     "iopub.status.idle": "2020-09-11T17:38:06.768225Z",
     "shell.execute_reply": "2020-09-11T17:38:06.767539Z"
    },
    "papermill": {
     "duration": 0.381117,
     "end_time": "2020-09-11T17:38:06.768386",
     "exception": false,
     "start_time": "2020-09-11T17:38:06.387269",
     "status": "completed"
    },
    "tags": []
   },
   "outputs": [
    {
     "name": "stdout",
     "output_type": "stream",
     "text": [
      "Classification Report:\n",
      "              precision    recall  f1-score   support\n",
      "\n",
      "           0       0.90      0.98      0.93      5798\n",
      "           1       0.50      0.17      0.26       792\n",
      "\n",
      "    accuracy                           0.88      6590\n",
      "   macro avg       0.70      0.57      0.60      6590\n",
      "weighted avg       0.85      0.88      0.85      6590\n",
      "\n",
      "ROC_AUC_SCORE is 0.5742166403601381\n"
     ]
    },
    {
     "data": {
      "image/png": "[encoded data removed]",
      "text/plain": [
       "<Figure size 432x288 with 1 Axes>"
      ]
     },
     "metadata": {
      "needs_background": "light"
     },
     "output_type": "display_data"
    }
   ],
   "source": [
    "\n",
    "# getting the auc roc curve\n",
    "auc = roc_auc_score(y_val, y_scores)\n",
    "print('Classification Report:')\n",
    "print(classification_report(y_val,y_scores))\n",
    "false_positive_rate, true_positive_rate, thresholds = roc_curve(y_val, y_scores)\n",
    "print('ROC_AUC_SCORE is',roc_auc_score(y_val, y_scores))\n",
    "    \n",
    "#fpr, tpr, _ = roc_curve(y_test, predictions[:,1])\n",
    "    \n",
    "plt.plot(false_positive_rate, true_positive_rate)\n",
    "plt.xlabel('FPR')\n",
    "plt.ylabel('TPR')\n",
    "plt.title('ROC curve')\n",
    "plt.show()"
   ]
  },
  {
   "cell_type": "markdown",
   "metadata": {
    "papermill": {
     "duration": 0.038684,
     "end_time": "2020-09-11T17:38:06.845494",
     "exception": false,
     "start_time": "2020-09-11T17:38:06.806810",
     "status": "completed"
    },
    "tags": []
   },
   "source": [
    "### The above two steps are combined and run in a single cell for all the remaining models respectively"
   ]
  },
  {
   "cell_type": "code",
   "execution_count": 7,
   "metadata": {
    "execution": {
     "iopub.execute_input": "2020-09-11T17:38:06.940676Z",
     "iopub.status.busy": "2020-09-11T17:38:06.937507Z",
     "iopub.status.idle": "2020-09-11T17:38:07.326076Z",
     "shell.execute_reply": "2020-09-11T17:38:07.326707Z"
    },
    "papermill": {
     "duration": 0.440535,
     "end_time": "2020-09-11T17:38:07.326887",
     "exception": false,
     "start_time": "2020-09-11T17:38:06.886352",
     "status": "completed"
    },
    "scrolled": true,
    "tags": []
   },
   "outputs": [
    {
     "name": "stdout",
     "output_type": "stream",
     "text": [
      "Classification Report:\n",
      "              precision    recall  f1-score   support\n",
      "\n",
      "           0       0.93      0.93      0.93      5798\n",
      "           1       0.46      0.46      0.46       792\n",
      "\n",
      "    accuracy                           0.87      6590\n",
      "   macro avg       0.69      0.69      0.69      6590\n",
      "weighted avg       0.87      0.87      0.87      6590\n",
      "\n",
      "ROC_AUC_SCORE is 0.692229730906861\n"
     ]
    },
    {
     "data": {
      "image/png": "[encoded data removed]",
      "text/plain": [
       "<Figure size 432x288 with 1 Axes>"
      ]
     },
     "metadata": {
      "needs_background": "light"
     },
     "output_type": "display_data"
    }
   ],
   "source": [
    "# Run Decision Tree Classifier\n",
    "model = DecisionTreeClassifier()\n",
    "\n",
    "model.fit(x_train, y_train)\n",
    "y_scores = model.predict(x_val)\n",
    "auc = roc_auc_score(y_val, y_scores)\n",
    "print('Classification Report:')\n",
    "print(classification_report(y_val,y_scores))\n",
    "false_positive_rate, true_positive_rate, thresholds = roc_curve(y_val, y_scores)\n",
    "print('ROC_AUC_SCORE is',roc_auc_score(y_val, y_scores))\n",
    "    \n",
    "#fpr, tpr, _ = roc_curve(y_test, predictions[:,1])\n",
    "    \n",
    "plt.plot(false_positive_rate, true_positive_rate)\n",
    "plt.xlabel('FPR')\n",
    "plt.ylabel('TPR')\n",
    "plt.title('ROC curve')\n",
    "plt.show()"
   ]
  },
  {
   "cell_type": "code",
   "execution_count": 8,
   "metadata": {
    "execution": {
     "iopub.execute_input": "2020-09-11T17:38:07.406223Z",
     "iopub.status.busy": "2020-09-11T17:38:07.405115Z",
     "iopub.status.idle": "2020-09-11T17:38:07.429590Z",
     "shell.execute_reply": "2020-09-11T17:38:07.428740Z"
    },
    "papermill": {
     "duration": 0.067385,
     "end_time": "2020-09-11T17:38:07.429729",
     "exception": false,
     "start_time": "2020-09-11T17:38:07.362344",
     "status": "completed"
    },
    "tags": []
   },
   "outputs": [],
   "source": [
    "from sklearn import tree\n",
    "from sklearn.tree import export_graphviz # display the tree within a Jupyter notebook\n",
    "from IPython.display import SVG\n",
    "from graphviz import Source\n",
    "from IPython.display import display\n",
    "from ipywidgets import interactive, IntSlider, FloatSlider, interact\n",
    "import ipywidgets\n",
    "from IPython.display import Image\n",
    "from subprocess import call\n",
    "import matplotlib.image as mpimg"
   ]
  },
  {
   "cell_type": "code",
   "execution_count": 9,
   "metadata": {
    "execution": {
     "iopub.execute_input": "2020-09-11T17:38:07.587436Z",
     "iopub.status.busy": "2020-09-11T17:38:07.586059Z",
     "iopub.status.idle": "2020-09-11T17:38:08.543980Z",
     "shell.execute_reply": "2020-09-11T17:38:08.544691Z"
    },
    "papermill": {
     "duration": 1.078164,
     "end_time": "2020-09-11T17:38:08.544914",
     "exception": false,
     "start_time": "2020-09-11T17:38:07.466750",
     "status": "completed"
    },
    "tags": []
   },
   "outputs": [
    {
     "name": "stdout",
     "output_type": "stream",
     "text": [
      "Decision Tree Training Accuracy: 0.896\n",
      "Decision Tree Test Accuracy: 0.889\n"
     ]
    },
    {
     "data": {
      "image/png": "[encoded data removed]",
      "text/plain": [
       "<IPython.core.display.Image object>"
      ]
     },
     "metadata": {},
     "output_type": "display_data"
    },
    {
     "data": {
      "text/plain": [
       "DecisionTreeClassifier(max_depth=2, random_state=0)"
      ]
     },
     "metadata": {},
     "output_type": "display_data"
    }
   ],
   "source": [
    "@interact\n",
    "def plot_tree(crit=[\"gini\", \"entropy\"],\n",
    "              split=[\"best\", \"random\"],\n",
    "              depth=IntSlider(min=1,max=30,value=2, continuous_update=False),\n",
    "              min_split=IntSlider(min=2,max=5,value=2, continuous_update=False),\n",
    "              min_leaf=IntSlider(min=1,max=5,value=1, continuous_update=False)):\n",
    "    \n",
    "    estimator = DecisionTreeClassifier(random_state=0,\n",
    "                                       criterion=crit,\n",
    "                                       splitter = split,\n",
    "                                       max_depth = depth,\n",
    "                                       min_samples_split=min_split,\n",
    "                                       min_samples_leaf=min_leaf)\n",
    "    estimator.fit(x_train, y_train)\n",
    "    print('Decision Tree Training Accuracy: {:.3f}'.format(accuracy_score(y_train, estimator.predict(x_train))))\n",
    "    print('Decision Tree Test Accuracy: {:.3f}'.format(accuracy_score(y_val, estimator.predict(x_val))))\n",
    "\n",
    "    graph = Source(tree.export_graphviz(estimator,\n",
    "                                        out_file=None,\n",
    "                                        feature_names=x_train.columns,\n",
    "                                        class_names=['0', '1'],\n",
    "                                        filled = True))\n",
    "    \n",
    "    display(Image(data=graph.pipe(format='png')))\n",
    "    \n",
    "    return estimator\n"
   ]
  },
  {
   "cell_type": "code",
   "execution_count": 10,
   "metadata": {
    "execution": {
     "iopub.execute_input": "2020-09-11T17:38:08.648992Z",
     "iopub.status.busy": "2020-09-11T17:38:08.647745Z",
     "iopub.status.idle": "2020-09-11T17:38:12.358957Z",
     "shell.execute_reply": "2020-09-11T17:38:12.359613Z"
    },
    "papermill": {
     "duration": 3.769252,
     "end_time": "2020-09-11T17:38:12.359782",
     "exception": false,
     "start_time": "2020-09-11T17:38:08.590530",
     "status": "completed"
    },
    "tags": []
   },
   "outputs": [
    {
     "name": "stdout",
     "output_type": "stream",
     "text": [
      "Classification Report:\n",
      "              precision    recall  f1-score   support\n",
      "\n",
      "           0       0.91      0.97      0.94      5798\n",
      "           1       0.63      0.34      0.44       792\n",
      "\n",
      "    accuracy                           0.90      6590\n",
      "   macro avg       0.77      0.65      0.69      6590\n",
      "weighted avg       0.88      0.90      0.88      6590\n",
      "\n",
      "ROC_AUC_SCORE is 0.654303904864443\n"
     ]
    },
    {
     "data": {
      "image/png": "[encoded data removed]",
      "text/plain": [
       "<Figure size 432x288 with 1 Axes>"
      ]
     },
     "metadata": {
      "needs_background": "light"
     },
     "output_type": "display_data"
    }
   ],
   "source": [
    "# run Random Forrest Classifier\n",
    "model = RandomForestClassifier()\n",
    "\n",
    "model.fit(x_train, y_train)\n",
    "y_scores = model.predict(x_val)\n",
    "auc = roc_auc_score(y_val, y_scores)\n",
    "print('Classification Report:')\n",
    "print(classification_report(y_val,y_scores))\n",
    "false_positive_rate, true_positive_rate, thresholds = roc_curve(y_val, y_scores)\n",
    "print('ROC_AUC_SCORE is',roc_auc_score(y_val, y_scores))\n",
    "    \n",
    "#fpr, tpr, _ = roc_curve(y_test, predictions[:,1])\n",
    "    \n",
    "plt.plot(false_positive_rate, true_positive_rate)\n",
    "plt.xlabel('FPR')\n",
    "plt.ylabel('TPR')\n",
    "plt.title('ROC curve')\n",
    "plt.show()"
   ]
  },
  {
   "cell_type": "code",
   "execution_count": 11,
   "metadata": {
    "execution": {
     "iopub.execute_input": "2020-09-11T17:38:12.609248Z",
     "iopub.status.busy": "2020-09-11T17:38:12.608419Z",
     "iopub.status.idle": "2020-09-11T17:38:15.101393Z",
     "shell.execute_reply": "2020-09-11T17:38:15.102427Z"
    },
    "papermill": {
     "duration": 2.545114,
     "end_time": "2020-09-11T17:38:15.102598",
     "exception": false,
     "start_time": "2020-09-11T17:38:12.557484",
     "status": "completed"
    },
    "tags": []
   },
   "outputs": [
    {
     "name": "stdout",
     "output_type": "stream",
     "text": [
      "Features  to be selected for Logistic Regression model are:\n",
      "['job', 'marital', 'education', 'housing', 'contact', 'day_of_week', 'campaign', 'poutcome']\n",
      "========================================================================================================================\n"
     ]
    }
   ],
   "source": [
    "# Selecting 8 number of features\n",
    "#   selecting models\n",
    "models = LogisticRegression()\n",
    "#   using  rfe and selecting 8 features\n",
    "rfe = RFE(models,8)\n",
    "#   fitting the model\n",
    "rfe = rfe.fit(X,y)\n",
    "#   ranking features\n",
    "feature_ranking = pd.Series(rfe.ranking_, index=X.columns)\n",
    "plt.show()\n",
    "print('Features  to be selected for Logistic Regression model are:')\n",
    "print(feature_ranking[feature_ranking.values==1].index.tolist())\n",
    "print('===='*30)\n",
    "\n"
   ]
  },
  {
   "cell_type": "code",
   "execution_count": 12,
   "metadata": {
    "execution": {
     "iopub.execute_input": "2020-09-11T17:38:15.203156Z",
     "iopub.status.busy": "2020-09-11T17:38:15.202320Z",
     "iopub.status.idle": "2020-09-11T17:38:41.851373Z",
     "shell.execute_reply": "2020-09-11T17:38:41.849816Z"
    },
    "papermill": {
     "duration": 26.707735,
     "end_time": "2020-09-11T17:38:41.851816",
     "exception": false,
     "start_time": "2020-09-11T17:38:15.144081",
     "status": "completed"
    },
    "tags": []
   },
   "outputs": [
    {
     "name": "stdout",
     "output_type": "stream",
     "text": [
      "Features  to be selected for Random Forrest Classifier are:\n",
      "['age', 'job', 'education', 'month', 'day_of_week', 'duration', 'campaign', 'poutcome']\n",
      "========================================================================================================================\n"
     ]
    }
   ],
   "source": [
    "# Selecting 8 number of features\n",
    "# Random Forrest classifier model\n",
    "models = RandomForestClassifier()\n",
    "#   using  rfe and selecting 8 features\n",
    "rfe = RFE(models,8)\n",
    "#   fitting the model\n",
    "rfe = rfe.fit(X,y)\n",
    "#   ranking features\n",
    "feature_ranking = pd.Series(rfe.ranking_, index=X.columns)\n",
    "plt.show()\n",
    "print('Features  to be selected for Random Forrest Classifier are:')\n",
    "print(feature_ranking[feature_ranking.values==1].index.tolist())\n",
    "print('===='*30)\n",
    "\n"
   ]
  },
  {
   "cell_type": "markdown",
   "metadata": {
    "papermill": {
     "duration": 0.041583,
     "end_time": "2020-09-11T17:38:41.936461",
     "exception": false,
     "start_time": "2020-09-11T17:38:41.894878",
     "status": "completed"
    },
    "tags": []
   },
   "source": [
    "### Feature Selection using Random Forest\n",
    "\n",
    "Random Forests are often used for feature selection in a data science workflow. This is because the tree based strategies that random forests use, rank the features based on how well they improve the purity of the node. The nodes having a very low impurity get split at the start of the tree while the nodes having a very high impurity get split towards the end of the tree. Hence by pruning the tree after desired amount of splits, we can create a subset of the most important features."
   ]
  },
  {
   "cell_type": "code",
   "execution_count": 13,
   "metadata": {
    "execution": {
     "iopub.execute_input": "2020-09-11T17:38:42.042598Z",
     "iopub.status.busy": "2020-09-11T17:38:42.041524Z",
     "iopub.status.idle": "2020-09-11T17:38:45.200000Z",
     "shell.execute_reply": "2020-09-11T17:38:45.199176Z"
    },
    "papermill": {
     "duration": 3.219399,
     "end_time": "2020-09-11T17:38:45.200169",
     "exception": false,
     "start_time": "2020-09-11T17:38:41.980770",
     "status": "completed"
    },
    "tags": []
   },
   "outputs": [
    {
     "data": {
      "image/png": "[encoded data removed]",
      "text/plain": [
       "<Figure size 432x288 with 1 Axes>"
      ]
     },
     "metadata": {
      "needs_background": "light"
     },
     "output_type": "display_data"
    }
   ],
   "source": [
    "# splitting the data into train and test data\n",
    "X_train, X_test, y_train, y_test = train_test_split(X, y, test_size=0.3, random_state=42, stratify=y)\n",
    "# selecting the data\n",
    "rfc = RandomForestClassifier(random_state=42)\n",
    "# fitting the data\n",
    "rfc.fit(X_train, y_train)\n",
    "# predicting the data\n",
    "y_pred = rfc.predict(X_test)\n",
    "# feature importances\n",
    "rfc_importances = pd.Series(rfc.feature_importances_, index=X.columns).sort_values().tail(10)\n",
    "# plotting bar chart according to feature importance\n",
    "rfc_importances.plot(kind='bar')\n",
    "plt.show()"
   ]
  },
  {
   "cell_type": "code",
   "execution_count": 14,
   "metadata": {
    "execution": {
     "iopub.execute_input": "2020-09-11T17:38:45.551622Z",
     "iopub.status.busy": "2020-09-11T17:38:45.550595Z",
     "iopub.status.idle": "2020-09-11T17:41:57.692335Z",
     "shell.execute_reply": "2020-09-11T17:41:57.693088Z"
    },
    "papermill": {
     "duration": 192.195165,
     "end_time": "2020-09-11T17:41:57.693381",
     "exception": false,
     "start_time": "2020-09-11T17:38:45.498216",
     "status": "completed"
    },
    "tags": []
   },
   "outputs": [
    {
     "name": "stdout",
     "output_type": "stream",
     "text": [
      "Best Parameters are: {'criterion': 'entropy', 'max_depth': 8, 'max_features': 'sqrt'}\n"
     ]
    }
   ],
   "source": [
    "# splitting the data\n",
    "x_train,x_val,y_train,y_val = train_test_split(X,y, test_size=0.3, random_state=42, stratify=y)\n",
    "# selecting the classifier\n",
    "rfc = RandomForestClassifier()\n",
    "# selecting the parameter\n",
    "param_grid = { \n",
    "'max_features': ['auto', 'sqrt', 'log2'],\n",
    "'max_depth' : [4,5,6,7,8],\n",
    "'criterion' :['gini', 'entropy']\n",
    "             }\n",
    "# using grid search with respective parameters\n",
    "grid_search_model = GridSearchCV(rfc, param_grid=param_grid)\n",
    "# fitting the model\n",
    "grid_search_model.fit(x_train, y_train)\n",
    "# printing the best parameters\n",
    "print('Best Parameters are:',grid_search_model.best_params_)"
   ]
  },
  {
   "cell_type": "markdown",
   "metadata": {
    "papermill": {
     "duration": 0.042782,
     "end_time": "2020-09-11T17:41:57.783009",
     "exception": false,
     "start_time": "2020-09-11T17:41:57.740227",
     "status": "completed"
    },
    "tags": []
   },
   "source": [
    "### Applying the best parameters obtained using Grid Search on Random Forest model\n",
    "\n",
    "In the task below, we fit a random forest model using the best parameters obtained using Grid Search. Since the target is imbalanced, we apply Synthetic Minority Oversampling (SMOTE) for undersampling and oversampling the majority and minority classes in the target respectively. \n",
    "\n",
    "__Kindly note that SMOTE should always be applied only on the training data and not on the validation and test data.__\n",
    "\n",
    "You can try experimenting with and without SMOTE and check for the difference in recall. "
   ]
  },
  {
   "cell_type": "code",
   "execution_count": 15,
   "metadata": {
    "execution": {
     "iopub.execute_input": "2020-09-11T17:41:57.884777Z",
     "iopub.status.busy": "2020-09-11T17:41:57.883930Z",
     "iopub.status.idle": "2020-09-11T17:41:59.011785Z",
     "shell.execute_reply": "2020-09-11T17:41:59.012647Z"
    },
    "papermill": {
     "duration": 1.186533,
     "end_time": "2020-09-11T17:41:59.012842",
     "exception": false,
     "start_time": "2020-09-11T17:41:57.826309",
     "status": "completed"
    },
    "tags": []
   },
   "outputs": [
    {
     "name": "stdout",
     "output_type": "stream",
     "text": [
      "              precision    recall  f1-score   support\n",
      "\n",
      "           0       0.96      0.76      0.85      8723\n",
      "           1       0.30      0.77      0.43      1162\n",
      "\n",
      "    accuracy                           0.76      9885\n",
      "   macro avg       0.63      0.76      0.64      9885\n",
      "weighted avg       0.88      0.76      0.80      9885\n",
      "\n",
      "[[6594 2129]\n",
      " [ 271  891]]\n"
     ]
    },
    {
     "data": {
      "image/png": "[encoded data removed]",
      "text/plain": [
       "<Figure size 576x396 with 1 Axes>"
      ]
     },
     "metadata": {},
     "output_type": "display_data"
    }
   ],
   "source": [
    "from sklearn.metrics import roc_auc_score,roc_curve,classification_report\n",
    "from sklearn.model_selection import cross_val_score\n",
    "from imblearn.over_sampling import SMOTE\n",
    "from yellowbrick.classifier import roc_auc\n",
    "\n",
    "\n",
    "# A function to use smote\n",
    "def grid_search_random_forrest_best(dataframe,target):\n",
    "    \n",
    "    # splitting the data\n",
    "    x_train,x_val,y_train,y_val = train_test_split(dataframe,target, test_size=0.3, random_state=42)\n",
    "    \n",
    "    # Applying Smote on train data for dealing with class imbalance\n",
    "    smote = SMOTE()\n",
    "    \n",
    "    X_sm, y_sm =  smote.fit_sample(x_train, y_train)\n",
    "    \n",
    "    rfc = RandomForestClassifier(n_estimators=11, max_features='auto', max_depth=8, criterion='entropy',random_state=42)\n",
    "    \n",
    "    rfc.fit(X_sm, y_sm)\n",
    "    y_pred = rfc.predict(x_val)\n",
    "    print(classification_report(y_val, y_pred))\n",
    "    print(confusion_matrix(y_val, y_pred))\n",
    "    visualizer = roc_auc(rfc,X_sm,y_sm,x_val,y_val)\n",
    "\n",
    "\n",
    "grid_search_random_forrest_best(X,y)"
   ]
  },
  {
   "cell_type": "markdown",
   "metadata": {
    "papermill": {
     "duration": 0.049128,
     "end_time": "2020-09-11T17:41:59.116545",
     "exception": false,
     "start_time": "2020-09-11T17:41:59.067417",
     "status": "completed"
    },
    "tags": []
   },
   "source": [
    "### Applying the grid search function for random forest only on the best features obtained using Random Forest"
   ]
  },
  {
   "cell_type": "code",
   "execution_count": 16,
   "metadata": {
    "execution": {
     "iopub.execute_input": "2020-09-11T17:41:59.227832Z",
     "iopub.status.busy": "2020-09-11T17:41:59.226581Z",
     "iopub.status.idle": "2020-09-11T17:41:59.936637Z",
     "shell.execute_reply": "2020-09-11T17:41:59.935819Z"
    },
    "papermill": {
     "duration": 0.773271,
     "end_time": "2020-09-11T17:41:59.936771",
     "exception": false,
     "start_time": "2020-09-11T17:41:59.163500",
     "status": "completed"
    },
    "tags": []
   },
   "outputs": [
    {
     "name": "stdout",
     "output_type": "stream",
     "text": [
      "              precision    recall  f1-score   support\n",
      "\n",
      "           0       0.96      0.81      0.88      8723\n",
      "           1       0.35      0.78      0.48      1162\n",
      "\n",
      "    accuracy                           0.80      9885\n",
      "   macro avg       0.66      0.79      0.68      9885\n",
      "weighted avg       0.89      0.80      0.83      9885\n",
      "\n",
      "[[7038 1685]\n",
      " [ 258  904]]\n"
     ]
    },
    {
     "data": {
      "image/png": "[encoded data removed]",
      "text/plain": [
       "<Figure size 576x396 with 1 Axes>"
      ]
     },
     "metadata": {},
     "output_type": "display_data"
    }
   ],
   "source": [
    "grid_search_random_forrest_best(X[['age', 'job', 'education', 'month', 'day_of_week', 'duration', 'campaign', 'poutcome']],y)"
   ]
  },
  {
   "cell_type": "code",
   "execution_count": 17,
   "metadata": {
    "execution": {
     "iopub.execute_input": "2020-09-11T17:42:00.145814Z",
     "iopub.status.busy": "2020-09-11T17:42:00.144939Z",
     "iopub.status.idle": "2020-09-11T17:42:10.780768Z",
     "shell.execute_reply": "2020-09-11T17:42:10.781418Z"
    },
    "papermill": {
     "duration": 10.694431,
     "end_time": "2020-09-11T17:42:10.781587",
     "exception": false,
     "start_time": "2020-09-11T17:42:00.087156",
     "status": "completed"
    },
    "tags": []
   },
   "outputs": [],
   "source": [
    "from sklearn.metrics import confusion_matrix\n",
    "from sklearn.ensemble import VotingClassifier\n",
    "\n",
    "\n",
    "# splitting the data  \n",
    "x_train,x_val,y_train,y_val = train_test_split(X, y, test_size=0.3, random_state=42)\n",
    "# using smote\n",
    "smote = SMOTE()\n",
    "X_sm, y_sm =  smote.fit_sample(x_train, y_train)\n",
    "# models to use for ensembling  \n",
    "model1 = RandomForestClassifier()\n",
    "model3 = GradientBoostingClassifier()\n",
    "model2 = LogisticRegression()\n",
    "# fitting the model\n",
    "model = VotingClassifier(estimators=[('rf', model1), ('lr', model2), ('xgb',model3)], voting='soft')\n",
    "model.fit(X_sm,y_sm)\n",
    "# predicting balues and getting the metrics\n",
    "y_pred = model.predict(x_val)\n"
   ]
  },
  {
   "cell_type": "code",
   "execution_count": 18,
   "metadata": {
    "execution": {
     "iopub.execute_input": "2020-09-11T17:42:10.884578Z",
     "iopub.status.busy": "2020-09-11T17:42:10.883723Z",
     "iopub.status.idle": "2020-09-11T17:42:11.675097Z",
     "shell.execute_reply": "2020-09-11T17:42:11.674303Z"
    },
    "papermill": {
     "duration": 0.846483,
     "end_time": "2020-09-11T17:42:11.675249",
     "exception": false,
     "start_time": "2020-09-11T17:42:10.828766",
     "status": "completed"
    },
    "tags": []
   },
   "outputs": [
    {
     "name": "stdout",
     "output_type": "stream",
     "text": [
      "              precision    recall  f1-score   support\n",
      "\n",
      "           0       0.95      0.85      0.90      8723\n",
      "           1       0.38      0.69      0.49      1162\n",
      "\n",
      "    accuracy                           0.83      9885\n",
      "   macro avg       0.67      0.77      0.70      9885\n",
      "weighted avg       0.89      0.83      0.85      9885\n",
      "\n",
      "[[7441 1282]\n",
      " [ 363  799]]\n"
     ]
    },
    {
     "data": {
      "image/png": "[encoded data removed]",
      "text/plain": [
       "<Figure size 576x396 with 1 Axes>"
      ]
     },
     "metadata": {},
     "output_type": "display_data"
    }
   ],
   "source": [
    "print(classification_report(y_val, y_pred))\n",
    "print(confusion_matrix(y_val, y_pred))\n",
    "visualizer = roc_auc(model,X_sm,y_sm,x_val,y_val)"
   ]
  },
  {
   "cell_type": "code",
   "execution_count": 19,
   "metadata": {
    "execution": {
     "iopub.execute_input": "2020-09-11T17:42:11.887399Z",
     "iopub.status.busy": "2020-09-11T17:42:11.886578Z",
     "iopub.status.idle": "2020-09-11T17:42:12.120683Z",
     "shell.execute_reply": "2020-09-11T17:42:12.120011Z"
    },
    "papermill": {
     "duration": 0.296896,
     "end_time": "2020-09-11T17:42:12.120835",
     "exception": false,
     "start_time": "2020-09-11T17:42:11.823939",
     "status": "completed"
    },
    "tags": []
   },
   "outputs": [
    {
     "data": {
      "text/html": [
       "<div>\n",
       "<style scoped>\n",
       "    .dataframe tbody tr th:only-of-type {\n",
       "        vertical-align: middle;\n",
       "    }\n",
       "\n",
       "    .dataframe tbody tr th {\n",
       "        vertical-align: top;\n",
       "    }\n",
       "\n",
       "    .dataframe thead th {\n",
       "        text-align: right;\n",
       "    }\n",
       "</style>\n",
       "<table border=\"1\" class=\"dataframe\">\n",
       "  <thead>\n",
       "    <tr style=\"text-align: right;\">\n",
       "      <th></th>\n",
       "      <th>age</th>\n",
       "      <th>job</th>\n",
       "      <th>marital</th>\n",
       "      <th>education</th>\n",
       "      <th>default</th>\n",
       "      <th>housing</th>\n",
       "      <th>loan</th>\n",
       "      <th>contact</th>\n",
       "      <th>month</th>\n",
       "      <th>day_of_week</th>\n",
       "      <th>duration</th>\n",
       "      <th>campaign</th>\n",
       "      <th>pdays</th>\n",
       "      <th>previous</th>\n",
       "      <th>poutcome</th>\n",
       "      <th>y</th>\n",
       "    </tr>\n",
       "  </thead>\n",
       "  <tbody>\n",
       "    <tr>\n",
       "      <th>0</th>\n",
       "      <td>49</td>\n",
       "      <td>blue-collar</td>\n",
       "      <td>married</td>\n",
       "      <td>basic.9y</td>\n",
       "      <td>unknown</td>\n",
       "      <td>no</td>\n",
       "      <td>no</td>\n",
       "      <td>cellular</td>\n",
       "      <td>nov</td>\n",
       "      <td>wed</td>\n",
       "      <td>227</td>\n",
       "      <td>4</td>\n",
       "      <td>999</td>\n",
       "      <td>0</td>\n",
       "      <td>nonexistent</td>\n",
       "      <td>no</td>\n",
       "    </tr>\n",
       "    <tr>\n",
       "      <th>1</th>\n",
       "      <td>37</td>\n",
       "      <td>entrepreneur</td>\n",
       "      <td>married</td>\n",
       "      <td>university.degree</td>\n",
       "      <td>no</td>\n",
       "      <td>no</td>\n",
       "      <td>no</td>\n",
       "      <td>telephone</td>\n",
       "      <td>nov</td>\n",
       "      <td>wed</td>\n",
       "      <td>202</td>\n",
       "      <td>2</td>\n",
       "      <td>999</td>\n",
       "      <td>1</td>\n",
       "      <td>failure</td>\n",
       "      <td>no</td>\n",
       "    </tr>\n",
       "    <tr>\n",
       "      <th>2</th>\n",
       "      <td>78</td>\n",
       "      <td>retired</td>\n",
       "      <td>married</td>\n",
       "      <td>basic.4y</td>\n",
       "      <td>no</td>\n",
       "      <td>no</td>\n",
       "      <td>no</td>\n",
       "      <td>cellular</td>\n",
       "      <td>jul</td>\n",
       "      <td>mon</td>\n",
       "      <td>1148</td>\n",
       "      <td>1</td>\n",
       "      <td>999</td>\n",
       "      <td>0</td>\n",
       "      <td>nonexistent</td>\n",
       "      <td>yes</td>\n",
       "    </tr>\n",
       "    <tr>\n",
       "      <th>3</th>\n",
       "      <td>36</td>\n",
       "      <td>admin.</td>\n",
       "      <td>married</td>\n",
       "      <td>university.degree</td>\n",
       "      <td>no</td>\n",
       "      <td>yes</td>\n",
       "      <td>no</td>\n",
       "      <td>telephone</td>\n",
       "      <td>may</td>\n",
       "      <td>mon</td>\n",
       "      <td>120</td>\n",
       "      <td>2</td>\n",
       "      <td>999</td>\n",
       "      <td>0</td>\n",
       "      <td>nonexistent</td>\n",
       "      <td>no</td>\n",
       "    </tr>\n",
       "    <tr>\n",
       "      <th>4</th>\n",
       "      <td>59</td>\n",
       "      <td>retired</td>\n",
       "      <td>divorced</td>\n",
       "      <td>university.degree</td>\n",
       "      <td>no</td>\n",
       "      <td>no</td>\n",
       "      <td>no</td>\n",
       "      <td>cellular</td>\n",
       "      <td>jun</td>\n",
       "      <td>tue</td>\n",
       "      <td>368</td>\n",
       "      <td>2</td>\n",
       "      <td>999</td>\n",
       "      <td>0</td>\n",
       "      <td>nonexistent</td>\n",
       "      <td>no</td>\n",
       "    </tr>\n",
       "  </tbody>\n",
       "</table>\n",
       "</div>"
      ],
      "text/plain": [
       "   age           job   marital          education  default housing loan  \\\n",
       "0   49   blue-collar   married           basic.9y  unknown      no   no   \n",
       "1   37  entrepreneur   married  university.degree       no      no   no   \n",
       "2   78       retired   married           basic.4y       no      no   no   \n",
       "3   36        admin.   married  university.degree       no     yes   no   \n",
       "4   59       retired  divorced  university.degree       no      no   no   \n",
       "\n",
       "     contact month day_of_week  duration  campaign  pdays  previous  \\\n",
       "0   cellular   nov         wed       227         4    999         0   \n",
       "1  telephone   nov         wed       202         2    999         1   \n",
       "2   cellular   jul         mon      1148         1    999         0   \n",
       "3  telephone   may         mon       120         2    999         0   \n",
       "4   cellular   jun         tue       368         2    999         0   \n",
       "\n",
       "      poutcome    y  \n",
       "0  nonexistent   no  \n",
       "1      failure   no  \n",
       "2  nonexistent  yes  \n",
       "3  nonexistent   no  \n",
       "4  nonexistent   no  "
      ]
     },
     "execution_count": 19,
     "metadata": {},
     "output_type": "execute_result"
    }
   ],
   "source": [
    "# Preprocessed Test File\n",
    "test = pd.read_csv('../input/banking-project-term-deposit/new_train.csv')\n",
    "test.head()\n"
   ]
  },
  {
   "cell_type": "code",
   "execution_count": 20,
   "metadata": {
    "execution": {
     "iopub.execute_input": "2020-09-11T17:42:12.231112Z",
     "iopub.status.busy": "2020-09-11T17:42:12.230336Z",
     "iopub.status.idle": "2020-09-11T17:47:32.088358Z",
     "shell.execute_reply": "2020-09-11T17:47:32.088992Z"
    },
    "papermill": {
     "duration": 319.918159,
     "end_time": "2020-09-11T17:47:32.089181",
     "exception": false,
     "start_time": "2020-09-11T17:42:12.171022",
     "status": "completed"
    },
    "tags": []
   },
   "outputs": [
    {
     "ename": "NameError",
     "evalue": "name 'grid_search' is not defined",
     "output_type": "error",
     "traceback": [
      "\u001b[0;31m---------------------------------------------------------------------------\u001b[0m",
      "\u001b[0;31mNameError\u001b[0m                                 Traceback (most recent call last)",
      "\u001b[0;32m<ipython-input-20-ec0790720c8a>\u001b[0m in \u001b[0;36m<module>\u001b[0;34m\u001b[0m\n\u001b[1;32m     18\u001b[0m \u001b[0;34m\u001b[0m\u001b[0m\n\u001b[1;32m     19\u001b[0m \u001b[0;31m# Predict on the preprocessed test file\u001b[0m\u001b[0;34m\u001b[0m\u001b[0;34m\u001b[0m\u001b[0;34m\u001b[0m\u001b[0m\n\u001b[0;32m---> 20\u001b[0;31m \u001b[0my_pred\u001b[0m \u001b[0;34m=\u001b[0m \u001b[0mgrid_search\u001b[0m\u001b[0;34m.\u001b[0m\u001b[0mpredict\u001b[0m\u001b[0;34m(\u001b[0m\u001b[0mtest\u001b[0m\u001b[0;34m)\u001b[0m\u001b[0;34m\u001b[0m\u001b[0;34m\u001b[0m\u001b[0m\n\u001b[0m\u001b[1;32m     21\u001b[0m \u001b[0;34m\u001b[0m\u001b[0m\n\u001b[1;32m     22\u001b[0m \u001b[0;31m#prediction = pd.DataFrame(y_pred,columns=['y'])\u001b[0m\u001b[0;34m\u001b[0m\u001b[0;34m\u001b[0m\u001b[0;34m\u001b[0m\u001b[0m\n",
      "\u001b[0;31mNameError\u001b[0m: name 'grid_search' is not defined"
     ]
    }
   ],
   "source": [
    "smote = SMOTE()\n",
    "\n",
    "X_sm, y_sm =  smote.fit_sample(x_train, y_train)\n",
    "\n",
    "\n",
    "rfc = RandomForestClassifier()\n",
    "# selecting the parameter\n",
    "param_grid = { \n",
    "'max_features': ['auto', 'sqrt', 'log2'],\n",
    "'max_depth' : [4,5,6,7,8],\n",
    "'criterion' :['gini', 'entropy']\n",
    "             }\n",
    "# using grid search with respective parameters\n",
    "grid_search_model = GridSearchCV(rfc, param_grid=param_grid)\n",
    "\n",
    "# fitting the model\n",
    "grid_search_model.fit(X_sm, y_sm)\n",
    "    \n",
    "# Predict on the preprocessed test file\n",
    "y_pred = grid_search.predict(test)\n",
    "    \n",
    "#prediction = pd.DataFrame(y_pred,columns=['y'])\n",
    "#submission = pd.concat([Id,prediction['y']],1)\n",
    "\n",
    "#submission.to_csv('submission.csv',index=False)"
   ]
  },
  {
   "cell_type": "code",
   "execution_count": null,
   "metadata": {
    "papermill": {
     "duration": 0.051034,
     "end_time": "2020-09-11T17:47:32.190983",
     "exception": false,
     "start_time": "2020-09-11T17:47:32.139949",
     "status": "completed"
    },
    "tags": []
   },
   "outputs": [],
   "source": []
  }
 ],
 "metadata": {
  "kernelspec": {
   "display_name": "Python 3 (ipykernel)",
   "language": "python",
   "name": "python3"
  },
  "language_info": {
   "codemirror_mode": {
    "name": "ipython",
    "version": 3
   },
   "file_extension": ".py",
   "mimetype": "text/x-python",
   "name": "python",
   "nbconvert_exporter": "python",
   "pygments_lexer": "ipython3",
   "version": "3.9.13"
  },
  "papermill": {
   "duration": 577.939799,
   "end_time": "2020-09-11T17:47:32.353902",
   "environment_variables": {},
   "exception": null,
   "input_path": "__notebook__.ipynb",
   "output_path": "__notebook__.ipynb",
   "parameters": {},
   "start_time": "2020-09-11T17:37:54.414103",
   "version": "2.1.0"
  },
  "widgets": {
   "application/vnd.jupyter.widget-state+json": {
    "state": {
     "0413d7802e9844babc9633e098b184c2": {
      "model_module": "@jupyter-widgets/controls",
      "model_module_version": "1.5.0",
      "model_name": "VBoxModel",
      "state": {
       "_dom_classes": [
        "widget-interact"
       ],
       "_model_module": "@jupyter-widgets/controls",
       "_model_module_version": "1.5.0",
       "_model_name": "VBoxModel",
       "_view_count": null,
       "_view_module": "@jupyter-widgets/controls",
       "_view_module_version": "1.5.0",
       "_view_name": "VBoxView",
       "box_style": "",
       "children": [
        "IPY_MODEL_f8b99ca330d64354808ea3119f00a520",
        "IPY_MODEL_670244bbb98d45d798cf9ec78536936e",
        "IPY_MODEL_52c1708f23be4328906037023f9e4ad4",
        "IPY_MODEL_f9afbe68e367422088424ea7d5b8ad34",
        "IPY_MODEL_c62a30e88b824869a4801a7c8ec35d63",
        "IPY_MODEL_923d3d1fa1d2439891b34b5d81fece89"
       ],
       "layout": "IPY_MODEL_ba8db3931f094ef491461503b41c8eb1"
      }
     },
     "1681b5c0485b4d849898b83133813b6a": {
      "model_module": "@jupyter-widgets/controls",
      "model_module_version": "1.5.0",
      "model_name": "SliderStyleModel",
      "state": {
       "_model_module": "@jupyter-widgets/controls",
       "_model_module_version": "1.5.0",
       "_model_name": "SliderStyleModel",
       "_view_count": null,
       "_view_module": "@jupyter-widgets/base",
       "_view_module_version": "1.2.0",
       "_view_name": "StyleView",
       "description_width": "",
       "handle_color": null
      }
     },
     "461a7615de084f5a9fa2f18e9cfb920b": {
      "model_module": "@jupyter-widgets/controls",
      "model_module_version": "1.5.0",
      "model_name": "SliderStyleModel",
      "state": {
       "_model_module": "@jupyter-widgets/controls",
       "_model_module_version": "1.5.0",
       "_model_name": "SliderStyleModel",
       "_view_count": null,
       "_view_module": "@jupyter-widgets/base",
       "_view_module_version": "1.2.0",
       "_view_name": "StyleView",
       "description_width": "",
       "handle_color": null
      }
     },
     "4912b3737c89452daf8219fafb67f36f": {
      "model_module": "@jupyter-widgets/base",
      "model_module_version": "1.2.0",
      "model_name": "LayoutModel",
      "state": {
       "_model_module": "@jupyter-widgets/base",
       "_model_module_version": "1.2.0",
       "_model_name": "LayoutModel",
       "_view_count": null,
       "_view_module": "@jupyter-widgets/base",
       "_view_module_version": "1.2.0",
       "_view_name": "LayoutView",
       "align_content": null,
       "align_items": null,
       "align_self": null,
       "border": null,
       "bottom": null,
       "display": null,
       "flex": null,
       "flex_flow": null,
       "grid_area": null,
       "grid_auto_columns": null,
       "grid_auto_flow": null,
       "grid_auto_rows": null,
       "grid_column": null,
       "grid_gap": null,
       "grid_row": null,
       "grid_template_areas": null,
       "grid_template_columns": null,
       "grid_template_rows": null,
       "height": null,
       "justify_content": null,
       "justify_items": null,
       "left": null,
       "margin": null,
       "max_height": null,
       "max_width": null,
       "min_height": null,
       "min_width": null,
       "object_fit": null,
       "object_position": null,
       "order": null,
       "overflow": null,
       "overflow_x": null,
       "overflow_y": null,
       "padding": null,
       "right": null,
       "top": null,
       "visibility": null,
       "width": null
      }
     },
     "52c1708f23be4328906037023f9e4ad4": {
      "model_module": "@jupyter-widgets/controls",
      "model_module_version": "1.5.0",
      "model_name": "IntSliderModel",
      "state": {
       "_dom_classes": [],
       "_model_module": "@jupyter-widgets/controls",
       "_model_module_version": "1.5.0",
       "_model_name": "IntSliderModel",
       "_view_count": null,
       "_view_module": "@jupyter-widgets/controls",
       "_view_module_version": "1.5.0",
       "_view_name": "IntSliderView",
       "continuous_update": false,
       "description": "depth",
       "description_tooltip": null,
       "disabled": false,
       "layout": "IPY_MODEL_4912b3737c89452daf8219fafb67f36f",
       "max": 30,
       "min": 1,
       "orientation": "horizontal",
       "readout": true,
       "readout_format": "d",
       "step": 1,
       "style": "IPY_MODEL_461a7615de084f5a9fa2f18e9cfb920b",
       "value": 2
      }
     },
     "5a501bd2ee1f42b4b87956a7389b1180": {
      "model_module": "@jupyter-widgets/controls",
      "model_module_version": "1.5.0",
      "model_name": "DescriptionStyleModel",
      "state": {
       "_model_module": "@jupyter-widgets/controls",
       "_model_module_version": "1.5.0",
       "_model_name": "DescriptionStyleModel",
       "_view_count": null,
       "_view_module": "@jupyter-widgets/base",
       "_view_module_version": "1.2.0",
       "_view_name": "StyleView",
       "description_width": ""
      }
     },
     "670244bbb98d45d798cf9ec78536936e": {
      "model_module": "@jupyter-widgets/controls",
      "model_module_version": "1.5.0",
      "model_name": "DropdownModel",
      "state": {
       "_dom_classes": [],
       "_model_module": "@jupyter-widgets/controls",
       "_model_module_version": "1.5.0",
       "_model_name": "DropdownModel",
       "_options_labels": [
        "best",
        "random"
       ],
       "_view_count": null,
       "_view_module": "@jupyter-widgets/controls",
       "_view_module_version": "1.5.0",
       "_view_name": "DropdownView",
       "description": "split",
       "description_tooltip": null,
       "disabled": false,
       "index": 0,
       "layout": "IPY_MODEL_cb4fd8bb3b2740958d04da55a30c9bb2",
       "style": "IPY_MODEL_5a501bd2ee1f42b4b87956a7389b1180"
      }
     },
     "7182eeeefcfd4b2ebde67cdbc1ca2bec": {
      "model_module": "@jupyter-widgets/controls",
      "model_module_version": "1.5.0",
      "model_name": "DescriptionStyleModel",
      "state": {
       "_model_module": "@jupyter-widgets/controls",
       "_model_module_version": "1.5.0",
       "_model_name": "DescriptionStyleModel",
       "_view_count": null,
       "_view_module": "@jupyter-widgets/base",
       "_view_module_version": "1.2.0",
       "_view_name": "StyleView",
       "description_width": ""
      }
     },
     "8dc406c2ba1f40219325b21a3fe05cb7": {
      "model_module": "@jupyter-widgets/base",
      "model_module_version": "1.2.0",
      "model_name": "LayoutModel",
      "state": {
       "_model_module": "@jupyter-widgets/base",
       "_model_module_version": "1.2.0",
       "_model_name": "LayoutModel",
       "_view_count": null,
       "_view_module": "@jupyter-widgets/base",
       "_view_module_version": "1.2.0",
       "_view_name": "LayoutView",
       "align_content": null,
       "align_items": null,
       "align_self": null,
       "border": null,
       "bottom": null,
       "display": null,
       "flex": null,
       "flex_flow": null,
       "grid_area": null,
       "grid_auto_columns": null,
       "grid_auto_flow": null,
       "grid_auto_rows": null,
       "grid_column": null,
       "grid_gap": null,
       "grid_row": null,
       "grid_template_areas": null,
       "grid_template_columns": null,
       "grid_template_rows": null,
       "height": null,
       "justify_content": null,
       "justify_items": null,
       "left": null,
       "margin": null,
       "max_height": null,
       "max_width": null,
       "min_height": null,
       "min_width": null,
       "object_fit": null,
       "object_position": null,
       "order": null,
       "overflow": null,
       "overflow_x": null,
       "overflow_y": null,
       "padding": null,
       "right": null,
       "top": null,
       "visibility": null,
       "width": null
      }
     },
     "8e813d3732b7479382cecc0f212e4bf1": {
      "model_module": "@jupyter-widgets/controls",
      "model_module_version": "1.5.0",
      "model_name": "SliderStyleModel",
      "state": {
       "_model_module": "@jupyter-widgets/controls",
       "_model_module_version": "1.5.0",
       "_model_name": "SliderStyleModel",
       "_view_count": null,
       "_view_module": "@jupyter-widgets/base",
       "_view_module_version": "1.2.0",
       "_view_name": "StyleView",
       "description_width": "",
       "handle_color": null
      }
     },
     "923d3d1fa1d2439891b34b5d81fece89": {
      "model_module": "@jupyter-widgets/output",
      "model_module_version": "1.0.0",
      "model_name": "OutputModel",
      "state": {
       "_dom_classes": [],
       "_model_module": "@jupyter-widgets/output",
       "_model_module_version": "1.0.0",
       "_model_name": "OutputModel",
       "_view_count": null,
       "_view_module": "@jupyter-widgets/output",
       "_view_module_version": "1.0.0",
       "_view_name": "OutputView",
       "layout": "IPY_MODEL_ab4e629d056247dfb2eaf4815b8845c3",
       "msg_id": "",
       "outputs": []
      }
     },
     "97b92400500042e3be1d12d700abdf9e": {
      "model_module": "@jupyter-widgets/base",
      "model_module_version": "1.2.0",
      "model_name": "LayoutModel",
      "state": {
       "_model_module": "@jupyter-widgets/base",
       "_model_module_version": "1.2.0",
       "_model_name": "LayoutModel",
       "_view_count": null,
       "_view_module": "@jupyter-widgets/base",
       "_view_module_version": "1.2.0",
       "_view_name": "LayoutView",
       "align_content": null,
       "align_items": null,
       "align_self": null,
       "border": null,
       "bottom": null,
       "display": null,
       "flex": null,
       "flex_flow": null,
       "grid_area": null,
       "grid_auto_columns": null,
       "grid_auto_flow": null,
       "grid_auto_rows": null,
       "grid_column": null,
       "grid_gap": null,
       "grid_row": null,
       "grid_template_areas": null,
       "grid_template_columns": null,
       "grid_template_rows": null,
       "height": null,
       "justify_content": null,
       "justify_items": null,
       "left": null,
       "margin": null,
       "max_height": null,
       "max_width": null,
       "min_height": null,
       "min_width": null,
       "object_fit": null,
       "object_position": null,
       "order": null,
       "overflow": null,
       "overflow_x": null,
       "overflow_y": null,
       "padding": null,
       "right": null,
       "top": null,
       "visibility": null,
       "width": null
      }
     },
     "ab4e629d056247dfb2eaf4815b8845c3": {
      "model_module": "@jupyter-widgets/base",
      "model_module_version": "1.2.0",
      "model_name": "LayoutModel",
      "state": {
       "_model_module": "@jupyter-widgets/base",
       "_model_module_version": "1.2.0",
       "_model_name": "LayoutModel",
       "_view_count": null,
       "_view_module": "@jupyter-widgets/base",
       "_view_module_version": "1.2.0",
       "_view_name": "LayoutView",
       "align_content": null,
       "align_items": null,
       "align_self": null,
       "border": null,
       "bottom": null,
       "display": null,
       "flex": null,
       "flex_flow": null,
       "grid_area": null,
       "grid_auto_columns": null,
       "grid_auto_flow": null,
       "grid_auto_rows": null,
       "grid_column": null,
       "grid_gap": null,
       "grid_row": null,
       "grid_template_areas": null,
       "grid_template_columns": null,
       "grid_template_rows": null,
       "height": null,
       "justify_content": null,
       "justify_items": null,
       "left": null,
       "margin": null,
       "max_height": null,
       "max_width": null,
       "min_height": null,
       "min_width": null,
       "object_fit": null,
       "object_position": null,
       "order": null,
       "overflow": null,
       "overflow_x": null,
       "overflow_y": null,
       "padding": null,
       "right": null,
       "top": null,
       "visibility": null,
       "width": null
      }
     },
     "ba8db3931f094ef491461503b41c8eb1": {
      "model_module": "@jupyter-widgets/base",
      "model_module_version": "1.2.0",
      "model_name": "LayoutModel",
      "state": {
       "_model_module": "@jupyter-widgets/base",
       "_model_module_version": "1.2.0",
       "_model_name": "LayoutModel",
       "_view_count": null,
       "_view_module": "@jupyter-widgets/base",
       "_view_module_version": "1.2.0",
       "_view_name": "LayoutView",
       "align_content": null,
       "align_items": null,
       "align_self": null,
       "border": null,
       "bottom": null,
       "display": null,
       "flex": null,
       "flex_flow": null,
       "grid_area": null,
       "grid_auto_columns": null,
       "grid_auto_flow": null,
       "grid_auto_rows": null,
       "grid_column": null,
       "grid_gap": null,
       "grid_row": null,
       "grid_template_areas": null,
       "grid_template_columns": null,
       "grid_template_rows": null,
       "height": null,
       "justify_content": null,
       "justify_items": null,
       "left": null,
       "margin": null,
       "max_height": null,
       "max_width": null,
       "min_height": null,
       "min_width": null,
       "object_fit": null,
       "object_position": null,
       "order": null,
       "overflow": null,
       "overflow_x": null,
       "overflow_y": null,
       "padding": null,
       "right": null,
       "top": null,
       "visibility": null,
       "width": null
      }
     },
     "c62a30e88b824869a4801a7c8ec35d63": {
      "model_module": "@jupyter-widgets/controls",
      "model_module_version": "1.5.0",
      "model_name": "IntSliderModel",
      "state": {
       "_dom_classes": [],
       "_model_module": "@jupyter-widgets/controls",
       "_model_module_version": "1.5.0",
       "_model_name": "IntSliderModel",
       "_view_count": null,
       "_view_module": "@jupyter-widgets/controls",
       "_view_module_version": "1.5.0",
       "_view_name": "IntSliderView",
       "continuous_update": false,
       "description": "min_leaf",
       "description_tooltip": null,
       "disabled": false,
       "layout": "IPY_MODEL_8dc406c2ba1f40219325b21a3fe05cb7",
       "max": 5,
       "min": 1,
       "orientation": "horizontal",
       "readout": true,
       "readout_format": "d",
       "step": 1,
       "style": "IPY_MODEL_8e813d3732b7479382cecc0f212e4bf1",
       "value": 1
      }
     },
     "cb4fd8bb3b2740958d04da55a30c9bb2": {
      "model_module": "@jupyter-widgets/base",
      "model_module_version": "1.2.0",
      "model_name": "LayoutModel",
      "state": {
       "_model_module": "@jupyter-widgets/base",
       "_model_module_version": "1.2.0",
       "_model_name": "LayoutModel",
       "_view_count": null,
       "_view_module": "@jupyter-widgets/base",
       "_view_module_version": "1.2.0",
       "_view_name": "LayoutView",
       "align_content": null,
       "align_items": null,
       "align_self": null,
       "border": null,
       "bottom": null,
       "display": null,
       "flex": null,
       "flex_flow": null,
       "grid_area": null,
       "grid_auto_columns": null,
       "grid_auto_flow": null,
       "grid_auto_rows": null,
       "grid_column": null,
       "grid_gap": null,
       "grid_row": null,
       "grid_template_areas": null,
       "grid_template_columns": null,
       "grid_template_rows": null,
       "height": null,
       "justify_content": null,
       "justify_items": null,
       "left": null,
       "margin": null,
       "max_height": null,
       "max_width": null,
       "min_height": null,
       "min_width": null,
       "object_fit": null,
       "object_position": null,
       "order": null,
       "overflow": null,
       "overflow_x": null,
       "overflow_y": null,
       "padding": null,
       "right": null,
       "top": null,
       "visibility": null,
       "width": null
      }
     },
     "de028484f8224398bbd473b34470f01f": {
      "model_module": "@jupyter-widgets/base",
      "model_module_version": "1.2.0",
      "model_name": "LayoutModel",
      "state": {
       "_model_module": "@jupyter-widgets/base",
       "_model_module_version": "1.2.0",
       "_model_name": "LayoutModel",
       "_view_count": null,
       "_view_module": "@jupyter-widgets/base",
       "_view_module_version": "1.2.0",
       "_view_name": "LayoutView",
       "align_content": null,
       "align_items": null,
       "align_self": null,
       "border": null,
       "bottom": null,
       "display": null,
       "flex": null,
       "flex_flow": null,
       "grid_area": null,
       "grid_auto_columns": null,
       "grid_auto_flow": null,
       "grid_auto_rows": null,
       "grid_column": null,
       "grid_gap": null,
       "grid_row": null,
       "grid_template_areas": null,
       "grid_template_columns": null,
       "grid_template_rows": null,
       "height": null,
       "justify_content": null,
       "justify_items": null,
       "left": null,
       "margin": null,
       "max_height": null,
       "max_width": null,
       "min_height": null,
       "min_width": null,
       "object_fit": null,
       "object_position": null,
       "order": null,
       "overflow": null,
       "overflow_x": null,
       "overflow_y": null,
       "padding": null,
       "right": null,
       "top": null,
       "visibility": null,
       "width": null
      }
     },
     "f8b99ca330d64354808ea3119f00a520": {
      "model_module": "@jupyter-widgets/controls",
      "model_module_version": "1.5.0",
      "model_name": "DropdownModel",
      "state": {
       "_dom_classes": [],
       "_model_module": "@jupyter-widgets/controls",
       "_model_module_version": "1.5.0",
       "_model_name": "DropdownModel",
       "_options_labels": [
        "gini",
        "entropy"
       ],
       "_view_count": null,
       "_view_module": "@jupyter-widgets/controls",
       "_view_module_version": "1.5.0",
       "_view_name": "DropdownView",
       "description": "crit",
       "description_tooltip": null,
       "disabled": false,
       "index": 0,
       "layout": "IPY_MODEL_de028484f8224398bbd473b34470f01f",
       "style": "IPY_MODEL_7182eeeefcfd4b2ebde67cdbc1ca2bec"
      }
     },
     "f9afbe68e367422088424ea7d5b8ad34": {
      "model_module": "@jupyter-widgets/controls",
      "model_module_version": "1.5.0",
      "model_name": "IntSliderModel",
      "state": {
       "_dom_classes": [],
       "_model_module": "@jupyter-widgets/controls",
       "_model_module_version": "1.5.0",
       "_model_name": "IntSliderModel",
       "_view_count": null,
       "_view_module": "@jupyter-widgets/controls",
       "_view_module_version": "1.5.0",
       "_view_name": "IntSliderView",
       "continuous_update": false,
       "description": "min_split",
       "description_tooltip": null,
       "disabled": false,
       "layout": "IPY_MODEL_97b92400500042e3be1d12d700abdf9e",
       "max": 5,
       "min": 2,
       "orientation": "horizontal",
       "readout": true,
       "readout_format": "d",
       "step": 1,
       "style": "IPY_MODEL_1681b5c0485b4d849898b83133813b6a",
       "value": 2
      }
     }
    },
    "version_major": 2,
    "version_minor": 0
   }
  }
 },
 "nbformat": 4,
 "nbformat_minor": 4
}
